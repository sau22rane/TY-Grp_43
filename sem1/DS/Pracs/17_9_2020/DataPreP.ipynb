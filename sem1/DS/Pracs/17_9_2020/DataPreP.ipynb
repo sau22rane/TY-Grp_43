{
 "cells": [
  {
   "cell_type": "markdown",
   "metadata": {
    "colab_type": "text",
    "id": "-TiOz5lQwYey"
   },
   "source": [
    "# Importing the libraries\n"
   ]
  },
  {
   "cell_type": "code",
   "execution_count": null,
   "metadata": {
    "colab": {},
    "colab_type": "code",
    "id": "GRZGTvCiwZlx"
   },
   "outputs": [],
   "source": [
    "import numpy as np\n",
    "import pandas as pd\n",
    "import matplotlib.pyplot as plt"
   ]
  },
  {
   "cell_type": "markdown",
   "metadata": {
    "colab_type": "text",
    "id": "vpEPa2rswoLT"
   },
   "source": [
    "# Importing the dataset\n"
   ]
  },
  {
   "cell_type": "code",
   "execution_count": null,
   "metadata": {
    "colab": {
     "base_uri": "https://localhost:8080/",
     "height": 201
    },
    "colab_type": "code",
    "id": "hKvH-rAfwtkV",
    "outputId": "a0a443cf-6e0f-45f5-ae37-341c637ec1d3"
   },
   "outputs": [
    {
     "name": "stdout",
     "output_type": "stream",
     "text": [
      "   Country   Age   Salary\n",
      "0   France  44.0  72000.0\n",
      "1    Spain  27.0  48000.0\n",
      "2  Germany  30.0  54000.0\n",
      "3    Spain  38.0  61000.0\n",
      "4  Germany  40.0      NaN\n",
      "5   France  35.0  58000.0\n",
      "6    Spain   NaN  52000.0\n",
      "7   France  48.0  79000.0\n",
      "8  Germany  50.0  83000.0\n",
      "9   France  37.0  67000.0\n"
     ]
    }
   ],
   "source": [
    "dataset = pd.read_csv('Data.csv')\n",
    "df = dataset.iloc[:, :-1]\n",
    "print(df)"
   ]
  },
  {
   "cell_type": "markdown",
   "metadata": {
    "colab_type": "text",
    "id": "6I_iy65iG81S"
   },
   "source": [
    "Duplicate entries\n",
    "\n"
   ]
  },
  {
   "cell_type": "code",
   "execution_count": null,
   "metadata": {
    "colab": {
     "base_uri": "https://localhost:8080/",
     "height": 50
    },
    "colab_type": "code",
    "id": "9EBbpjaeHBpX",
    "outputId": "ef023368-4247-4f9b-e156-b52602402110"
   },
   "outputs": [
    {
     "name": "stdout",
     "output_type": "stream",
     "text": [
      "number 0\n",
      "(array([], dtype=int64),)\n"
     ]
    }
   ],
   "source": [
    "print('number',df.duplicated().sum())\n",
    "print(np.where(df.duplicated()==True))"
   ]
  },
  {
   "cell_type": "markdown",
   "metadata": {
    "colab_type": "text",
    "id": "isYxCGc1KSjd"
   },
   "source": [
    "df.drop_duplicates(subset=None, keep=’first’, inplace=False)\n",
    "subset: Subset takes a column or list of column label. It’s default value is none.\n",
    "After passing columns, it will consider them only for duplicates\n",
    "\n",
    "keep: keep is to control how to consider duplicate value. It has only three distinct value and default is ‘first’.\n",
    "If ‘first’, it considers first value as unique and rest of the same values as duplicate.\n",
    "If ‘last’, it considers last value as unique and rest of the same values as duplicate.\n",
    "If False, it consider all of the same values as duplicates\n",
    "\n",
    "data.drop_duplicates(subset =\"Col Name\", \n",
    "                     keep = False, inplace = True)"
   ]
  },
  {
   "cell_type": "markdown",
   "metadata": {
    "colab_type": "text",
    "id": "1lIR_NbQxBh4"
   },
   "source": [
    "# Taking care of missing data\n"
   ]
  },
  {
   "cell_type": "code",
   "execution_count": null,
   "metadata": {
    "colab": {
     "base_uri": "https://localhost:8080/",
     "height": 345
    },
    "colab_type": "code",
    "id": "pDC305EVxSsd",
    "outputId": "bfd4eabe-585d-47b9-a594-388b33d7c20c"
   },
   "outputs": [
    {
     "data": {
      "text/html": [
       "<div>\n",
       "<style scoped>\n",
       "    .dataframe tbody tr th:only-of-type {\n",
       "        vertical-align: middle;\n",
       "    }\n",
       "\n",
       "    .dataframe tbody tr th {\n",
       "        vertical-align: top;\n",
       "    }\n",
       "\n",
       "    .dataframe thead th {\n",
       "        text-align: right;\n",
       "    }\n",
       "</style>\n",
       "<table border=\"1\" class=\"dataframe\">\n",
       "  <thead>\n",
       "    <tr style=\"text-align: right;\">\n",
       "      <th></th>\n",
       "      <th>Country</th>\n",
       "      <th>Age</th>\n",
       "      <th>Salary</th>\n",
       "    </tr>\n",
       "  </thead>\n",
       "  <tbody>\n",
       "    <tr>\n",
       "      <th>0</th>\n",
       "      <td>False</td>\n",
       "      <td>False</td>\n",
       "      <td>False</td>\n",
       "    </tr>\n",
       "    <tr>\n",
       "      <th>1</th>\n",
       "      <td>False</td>\n",
       "      <td>False</td>\n",
       "      <td>False</td>\n",
       "    </tr>\n",
       "    <tr>\n",
       "      <th>2</th>\n",
       "      <td>False</td>\n",
       "      <td>False</td>\n",
       "      <td>False</td>\n",
       "    </tr>\n",
       "    <tr>\n",
       "      <th>3</th>\n",
       "      <td>False</td>\n",
       "      <td>False</td>\n",
       "      <td>False</td>\n",
       "    </tr>\n",
       "    <tr>\n",
       "      <th>4</th>\n",
       "      <td>False</td>\n",
       "      <td>False</td>\n",
       "      <td>True</td>\n",
       "    </tr>\n",
       "    <tr>\n",
       "      <th>5</th>\n",
       "      <td>False</td>\n",
       "      <td>False</td>\n",
       "      <td>False</td>\n",
       "    </tr>\n",
       "    <tr>\n",
       "      <th>6</th>\n",
       "      <td>False</td>\n",
       "      <td>True</td>\n",
       "      <td>False</td>\n",
       "    </tr>\n",
       "    <tr>\n",
       "      <th>7</th>\n",
       "      <td>False</td>\n",
       "      <td>False</td>\n",
       "      <td>False</td>\n",
       "    </tr>\n",
       "    <tr>\n",
       "      <th>8</th>\n",
       "      <td>False</td>\n",
       "      <td>False</td>\n",
       "      <td>False</td>\n",
       "    </tr>\n",
       "    <tr>\n",
       "      <th>9</th>\n",
       "      <td>False</td>\n",
       "      <td>False</td>\n",
       "      <td>False</td>\n",
       "    </tr>\n",
       "  </tbody>\n",
       "</table>\n",
       "</div>"
      ],
      "text/plain": [
       "   Country    Age  Salary\n",
       "0    False  False   False\n",
       "1    False  False   False\n",
       "2    False  False   False\n",
       "3    False  False   False\n",
       "4    False  False    True\n",
       "5    False  False   False\n",
       "6    False   True   False\n",
       "7    False  False   False\n",
       "8    False  False   False\n",
       "9    False  False   False"
      ]
     },
     "execution_count": 70,
     "metadata": {
      "tags": []
     },
     "output_type": "execute_result"
    }
   ],
   "source": [
    "df.isna()"
   ]
  },
  {
   "cell_type": "code",
   "execution_count": null,
   "metadata": {
    "colab": {
     "base_uri": "https://localhost:8080/",
     "height": 84
    },
    "colab_type": "code",
    "id": "ai0WA4pNzGsX",
    "outputId": "a11a43db-0175-4f76-d6ab-b2ed2872078e"
   },
   "outputs": [
    {
     "data": {
      "text/plain": [
       "Country    0\n",
       "Age        1\n",
       "Salary     1\n",
       "dtype: int64"
      ]
     },
     "execution_count": 71,
     "metadata": {
      "tags": []
     },
     "output_type": "execute_result"
    }
   ],
   "source": [
    "df.isna().sum()"
   ]
  },
  {
   "cell_type": "code",
   "execution_count": null,
   "metadata": {
    "colab": {
     "base_uri": "https://localhost:8080/",
     "height": 84
    },
    "colab_type": "code",
    "id": "3CNVrTm8zMD_",
    "outputId": "196609ed-38b8-472b-eac0-5891ff39a108"
   },
   "outputs": [
    {
     "data": {
      "text/plain": [
       "Country    0\n",
       "Age        0\n",
       "Salary     0\n",
       "dtype: int64"
      ]
     },
     "execution_count": 72,
     "metadata": {
      "tags": []
     },
     "output_type": "execute_result"
    }
   ],
   "source": [
    "#Drop rows with missing values\n",
    "dropdf=df.dropna()\n",
    "dropdf.isna().sum()\n"
   ]
  },
  {
   "cell_type": "code",
   "execution_count": null,
   "metadata": {
    "colab": {
     "base_uri": "https://localhost:8080/",
     "height": 50
    },
    "colab_type": "code",
    "id": "QILwWFQez9FI",
    "outputId": "53eec6eb-d94a-453e-b068-b9a7e96a3422"
   },
   "outputs": [
    {
     "name": "stdout",
     "output_type": "stream",
     "text": [
      "(10, 3)\n",
      "(8, 3)\n"
     ]
    }
   ],
   "source": [
    "print(df.shape)\n",
    "print(dropdf.shape)"
   ]
  },
  {
   "cell_type": "code",
   "execution_count": null,
   "metadata": {
    "colab": {
     "base_uri": "https://localhost:8080/",
     "height": 201
    },
    "colab_type": "code",
    "id": "p617uGrGz_tG",
    "outputId": "dcd12130-c030-40f6-ff94-84e66603c745"
   },
   "outputs": [
    {
     "name": "stdout",
     "output_type": "stream",
     "text": [
      "   Country        Age        Salary\n",
      "0   France  44.000000  72000.000000\n",
      "1    Spain  27.000000  48000.000000\n",
      "2  Germany  30.000000  54000.000000\n",
      "3    Spain  38.000000  61000.000000\n",
      "4  Germany  40.000000  63777.777778\n",
      "5   France  35.000000  58000.000000\n",
      "6    Spain  38.777778  52000.000000\n",
      "7   France  48.000000  79000.000000\n",
      "8  Germany  50.000000  83000.000000\n",
      "9   France  37.000000  67000.000000\n"
     ]
    }
   ],
   "source": [
    "#fill in missing values with mean\n",
    "from sklearn.impute import SimpleImputer\n",
    "imputer = SimpleImputer(missing_values=np.nan, strategy='mean')\n",
    "imputer.fit(df.iloc[:, 1:3])\n",
    "df.iloc[:, 1:3] = imputer.transform(df.iloc[:, 1:3])\n",
    "print(df)\n"
   ]
  },
  {
   "cell_type": "markdown",
   "metadata": {
    "colab_type": "text",
    "id": "2ZdPGNlF2s-i"
   },
   "source": [
    "# Encoding categorical data\n",
    "Encoding the Independent Variable\n"
   ]
  },
  {
   "cell_type": "code",
   "execution_count": null,
   "metadata": {
    "colab": {
     "base_uri": "https://localhost:8080/",
     "height": 201
    },
    "colab_type": "code",
    "id": "-qrB__pv2wLs",
    "outputId": "32a0a45c-ce42-4a38-cdc7-ef87bffcb1ad"
   },
   "outputs": [
    {
     "name": "stdout",
     "output_type": "stream",
     "text": [
      "   Country        Age        Salary\n",
      "0        0  44.000000  72000.000000\n",
      "1        2  27.000000  48000.000000\n",
      "2        1  30.000000  54000.000000\n",
      "3        2  38.000000  61000.000000\n",
      "4        1  40.000000  63777.777778\n",
      "5        0  35.000000  58000.000000\n",
      "6        2  38.777778  52000.000000\n",
      "7        0  48.000000  79000.000000\n",
      "8        1  50.000000  83000.000000\n",
      "9        0  37.000000  67000.000000\n"
     ]
    }
   ],
   "source": [
    "## Label Encoding\n",
    "from sklearn.preprocessing import LabelEncoder\n",
    "l1 = LabelEncoder()\n",
    "l1.fit(df['Country'])\n",
    "df.Country = l1.transform(df.Country)\n",
    "print(df)\n"
   ]
  },
  {
   "cell_type": "code",
   "execution_count": null,
   "metadata": {
    "colab": {
     "base_uri": "https://localhost:8080/",
     "height": 201
    },
    "colab_type": "code",
    "id": "69vThA4j33da",
    "outputId": "354ca422-fb9b-4aac-9e41-69ffcbefbd14"
   },
   "outputs": [
    {
     "name": "stdout",
     "output_type": "stream",
     "text": [
      "    Age   Salary  Country_France  Country_Germany  Country_Spain\n",
      "0  44.0  72000.0               1                0              0\n",
      "1  27.0  48000.0               0                0              1\n",
      "2  30.0  54000.0               0                1              0\n",
      "3  38.0  61000.0               0                0              1\n",
      "4  40.0      NaN               0                1              0\n",
      "5  35.0  58000.0               1                0              0\n",
      "6   NaN  52000.0               0                0              1\n",
      "7  48.0  79000.0               1                0              0\n",
      "8  50.0  83000.0               0                1              0\n",
      "9  37.0  67000.0               1                0              0\n"
     ]
    }
   ],
   "source": [
    "#One Hot Encoding\n",
    "#2 ways\n",
    "#1.DataFrame.get_dummies\n",
    "df = dataset.iloc[:, :-1]\n",
    "#print(df)\n",
    "ddf=pd.get_dummies(data=df)\n",
    "print(ddf)"
   ]
  },
  {
   "cell_type": "code",
   "execution_count": null,
   "metadata": {
    "colab": {
     "base_uri": "https://localhost:8080/",
     "height": 201
    },
    "colab_type": "code",
    "id": "DJ0yOIhC74-e",
    "outputId": "9a421696-e176-4db7-d847-3048ac6ccbd3"
   },
   "outputs": [
    {
     "name": "stdout",
     "output_type": "stream",
     "text": [
      "     0    1    2     3        4\n",
      "0  1.0  0.0  0.0  44.0  72000.0\n",
      "1  0.0  0.0  1.0  27.0  48000.0\n",
      "2  0.0  1.0  0.0  30.0  54000.0\n",
      "3  0.0  0.0  1.0  38.0  61000.0\n",
      "4  0.0  1.0  0.0  40.0      NaN\n",
      "5  1.0  0.0  0.0  35.0  58000.0\n",
      "6  0.0  0.0  1.0   NaN  52000.0\n",
      "7  1.0  0.0  0.0  48.0  79000.0\n",
      "8  0.0  1.0  0.0  50.0  83000.0\n",
      "9  1.0  0.0  0.0  37.0  67000.0\n"
     ]
    }
   ],
   "source": [
    "#2Using OneHotEncoder from Sci-Kit Learn\n",
    "from sklearn.compose import ColumnTransformer\n",
    "from sklearn.preprocessing import OneHotEncoder\n",
    "\n",
    "df = dataset.iloc[:, :-1]\n",
    "\n",
    "ct = ColumnTransformer(transformers=[('encoder', OneHotEncoder(), [0])], remainder='passthrough')\n",
    "X = pd.DataFrame(ct.fit_transform(df))\n",
    "print(X)"
   ]
  },
  {
   "cell_type": "code",
   "execution_count": null,
   "metadata": {
    "colab": {
     "base_uri": "https://localhost:8080/",
     "height": 529
    },
    "colab_type": "code",
    "id": "k1tnCOzG-8D7",
    "outputId": "e01e4cf2-6b85-4711-9a03-0492278cb2fe"
   },
   "outputs": [
    {
     "name": "stdout",
     "output_type": "stream",
     "text": [
      "   0  1  2\n",
      "0  1  0  0\n",
      "1  0  0  1\n",
      "2  0  1  0\n",
      "3  0  0  1\n",
      "4  0  1  0\n",
      "5  1  0  0\n",
      "6  0  0  1\n",
      "7  1  0  0\n",
      "8  0  1  0\n",
      "9  1  0  0\n"
     ]
    },
    {
     "data": {
      "text/html": [
       "<div>\n",
       "<style scoped>\n",
       "    .dataframe tbody tr th:only-of-type {\n",
       "        vertical-align: middle;\n",
       "    }\n",
       "\n",
       "    .dataframe tbody tr th {\n",
       "        vertical-align: top;\n",
       "    }\n",
       "\n",
       "    .dataframe thead th {\n",
       "        text-align: right;\n",
       "    }\n",
       "</style>\n",
       "<table border=\"1\" class=\"dataframe\">\n",
       "  <thead>\n",
       "    <tr style=\"text-align: right;\">\n",
       "      <th></th>\n",
       "      <th>0</th>\n",
       "      <th>1</th>\n",
       "      <th>2</th>\n",
       "      <th>Age</th>\n",
       "      <th>Salary</th>\n",
       "    </tr>\n",
       "  </thead>\n",
       "  <tbody>\n",
       "    <tr>\n",
       "      <th>0</th>\n",
       "      <td>1</td>\n",
       "      <td>0</td>\n",
       "      <td>0</td>\n",
       "      <td>44.0</td>\n",
       "      <td>72000.0</td>\n",
       "    </tr>\n",
       "    <tr>\n",
       "      <th>1</th>\n",
       "      <td>0</td>\n",
       "      <td>0</td>\n",
       "      <td>1</td>\n",
       "      <td>27.0</td>\n",
       "      <td>48000.0</td>\n",
       "    </tr>\n",
       "    <tr>\n",
       "      <th>2</th>\n",
       "      <td>0</td>\n",
       "      <td>1</td>\n",
       "      <td>0</td>\n",
       "      <td>30.0</td>\n",
       "      <td>54000.0</td>\n",
       "    </tr>\n",
       "    <tr>\n",
       "      <th>3</th>\n",
       "      <td>0</td>\n",
       "      <td>0</td>\n",
       "      <td>1</td>\n",
       "      <td>38.0</td>\n",
       "      <td>61000.0</td>\n",
       "    </tr>\n",
       "    <tr>\n",
       "      <th>4</th>\n",
       "      <td>0</td>\n",
       "      <td>1</td>\n",
       "      <td>0</td>\n",
       "      <td>40.0</td>\n",
       "      <td>NaN</td>\n",
       "    </tr>\n",
       "    <tr>\n",
       "      <th>5</th>\n",
       "      <td>1</td>\n",
       "      <td>0</td>\n",
       "      <td>0</td>\n",
       "      <td>35.0</td>\n",
       "      <td>58000.0</td>\n",
       "    </tr>\n",
       "    <tr>\n",
       "      <th>6</th>\n",
       "      <td>0</td>\n",
       "      <td>0</td>\n",
       "      <td>1</td>\n",
       "      <td>NaN</td>\n",
       "      <td>52000.0</td>\n",
       "    </tr>\n",
       "    <tr>\n",
       "      <th>7</th>\n",
       "      <td>1</td>\n",
       "      <td>0</td>\n",
       "      <td>0</td>\n",
       "      <td>48.0</td>\n",
       "      <td>79000.0</td>\n",
       "    </tr>\n",
       "    <tr>\n",
       "      <th>8</th>\n",
       "      <td>0</td>\n",
       "      <td>1</td>\n",
       "      <td>0</td>\n",
       "      <td>50.0</td>\n",
       "      <td>83000.0</td>\n",
       "    </tr>\n",
       "    <tr>\n",
       "      <th>9</th>\n",
       "      <td>1</td>\n",
       "      <td>0</td>\n",
       "      <td>0</td>\n",
       "      <td>37.0</td>\n",
       "      <td>67000.0</td>\n",
       "    </tr>\n",
       "  </tbody>\n",
       "</table>\n",
       "</div>"
      ],
      "text/plain": [
       "   0  1  2   Age   Salary\n",
       "0  1  0  0  44.0  72000.0\n",
       "1  0  0  1  27.0  48000.0\n",
       "2  0  1  0  30.0  54000.0\n",
       "3  0  0  1  38.0  61000.0\n",
       "4  0  1  0  40.0      NaN\n",
       "5  1  0  0  35.0  58000.0\n",
       "6  0  0  1   NaN  52000.0\n",
       "7  1  0  0  48.0  79000.0\n",
       "8  0  1  0  50.0  83000.0\n",
       "9  1  0  0  37.0  67000.0"
      ]
     },
     "execution_count": 78,
     "metadata": {
      "tags": []
     },
     "output_type": "execute_result"
    }
   ],
   "source": [
    "from sklearn.preprocessing import LabelBinarizer\n",
    "df = dataset.iloc[:, :-1]\n",
    "y =pd.DataFrame( LabelBinarizer().fit_transform(df.Country),)\n",
    "print(y)\n",
    "pd.concat([y,df.iloc[:,1:3]], axis=1)"
   ]
  },
  {
   "cell_type": "markdown",
   "metadata": {
    "colab_type": "text",
    "id": "LpzAaXNlFGCu"
   },
   "source": [
    "Encoding the Dependent Variable"
   ]
  },
  {
   "cell_type": "code",
   "execution_count": null,
   "metadata": {
    "colab": {
     "base_uri": "https://localhost:8080/",
     "height": 50
    },
    "colab_type": "code",
    "id": "dCFqkr0rFHEL",
    "outputId": "4bbe386c-7502-48af-ead5-91e698f48569"
   },
   "outputs": [
    {
     "name": "stdout",
     "output_type": "stream",
     "text": [
      "['No' 'Yes' 'No' 'No' 'Yes' 'Yes' 'No' 'Yes' 'No' 'Yes']\n",
      "[0 1 0 0 1 1 0 1 0 1]\n"
     ]
    }
   ],
   "source": [
    "from sklearn.preprocessing import LabelEncoder\n",
    "le = LabelEncoder()\n",
    "y = dataset.iloc[:, -1].values\n",
    "print(y)\n",
    "y = le.fit_transform(y)\n",
    "print(y)\n"
   ]
  },
  {
   "cell_type": "markdown",
   "metadata": {
    "colab_type": "text",
    "id": "pgYXL110FVot"
   },
   "source": [
    "# Feature Scaling"
   ]
  },
  {
   "cell_type": "code",
   "execution_count": null,
   "metadata": {
    "colab": {
     "base_uri": "https://localhost:8080/",
     "height": 50
    },
    "colab_type": "code",
    "id": "zCHjI3V_uPhz",
    "outputId": "bd74cacb-8368-4fea-bb7e-af716ae5e0ff"
   },
   "outputs": [
    {
     "name": "stdout",
     "output_type": "stream",
     "text": [
      "Sal range 48000.0 - 83000.0\n",
      "Age range 27.0 - 50.0\n"
     ]
    }
   ],
   "source": [
    "df = dataset.iloc[:, :-1]\n",
    "X = dataset.iloc[:, :-1].values\n",
    "print('Sal range',min(df.Salary),'-',max(df.Salary))\n",
    "print('Age range',min(df.Age),'-',max(df.Age))"
   ]
  },
  {
   "cell_type": "code",
   "execution_count": null,
   "metadata": {
    "colab": {
     "base_uri": "https://localhost:8080/",
     "height": 298
    },
    "colab_type": "code",
    "id": "lhanmrSrvKGI",
    "outputId": "7a231307-2d9a-44b0-a86b-5f391df1ac81"
   },
   "outputs": [
    {
     "name": "stdout",
     "output_type": "stream",
     "text": [
      "[27.0 48000.0]\n",
      "[50.0 83000.0]\n"
     ]
    },
    {
     "data": {
      "image/png": "[encoded data removed]",
      "text/plain": [
       "<Figure size 432x288 with 1 Axes>"
      ]
     },
     "metadata": {
      "needs_background": "light",
      "tags": []
     },
     "output_type": "display_data"
    }
   ],
   "source": [
    "x1=X[1,1:3] #row 2\n",
    "x2=X[8,1:3] # row 9\n",
    "print(x1)\n",
    "print(x2)\n",
    "x=[x1[1],x2[1]]\n",
    "y=[x1[0],x2[0]]\n",
    "plt.scatter(x, y)\n",
    "plt.show()"
   ]
  },
  {
   "cell_type": "code",
   "execution_count": null,
   "metadata": {
    "colab": {
     "base_uri": "https://localhost:8080/",
     "height": 67
    },
    "colab_type": "code",
    "id": "MeUI-wLkyR7Z",
    "outputId": "3b793d47-ab58-421f-b36c-a76652d60104"
   },
   "outputs": [
    {
     "name": "stdout",
     "output_type": "stream",
     "text": [
      "529.0\n",
      "1225000000.0\n",
      "35000.00755714204\n"
     ]
    }
   ],
   "source": [
    "Agediff=(x1[0]-x2[0])**2\n",
    "print(Agediff)\n",
    "Saldiff=(x1[1]-x2[1])**2\n",
    "print(Saldiff)\n",
    "e_dist=np.sqrt(Agediff+Saldiff)\n",
    "print(e_dist)"
   ]
  },
  {
   "cell_type": "markdown",
   "metadata": {
    "colab_type": "text",
    "id": "BMa89Y6J1CyZ"
   },
   "source": [
    "Euclidean distance dominated by the salary if we do not apply feature scaling. The difference in Age contributes less to the overall difference\n",
    "2 methods \n",
    "Standardisation (Z-score normalization) and Normalisation"
   ]
  },
  {
   "cell_type": "code",
   "execution_count": null,
   "metadata": {
    "colab": {
     "base_uri": "https://localhost:8080/",
     "height": 184
    },
    "colab_type": "code",
    "id": "cofd774v1jFo",
    "outputId": "01dc428f-72e8-47a3-defc-fbf1eeef823d"
   },
   "outputs": [
    {
     "name": "stdout",
     "output_type": "stream",
     "text": [
      "[['France' 0.7199314321591973 0.711012758872281]\n",
      " ['Spain' -1.6236751448696793 -1.3643758345927564]\n",
      " ['Germany' -1.2100975136292893 -0.845528686226497]\n",
      " ['Spain' -0.1072238303215827 -0.24020701313252774]\n",
      " ['Germany' 0.16849459050534396 nan]\n",
      " ['France' -0.5208014615619727 -0.4996305873156574]\n",
      " ['Spain' nan -1.0184777356819168]\n",
      " ['France' 1.2713682738130507 1.3163344319662502]\n",
      " ['Germany' 1.5470866946399773 1.6622325308770898]\n",
      " ['France' -0.24508304073504605 0.2786401352337316]]\n"
     ]
    }
   ],
   "source": [
    "from sklearn.preprocessing import StandardScaler\n",
    "sc = StandardScaler()\n",
    "X[:, 1:3] = sc.fit_transform(X[:, 1:3])\n",
    "print(X)\n",
    "\n"
   ]
  },
  {
   "cell_type": "markdown",
   "metadata": {
    "colab_type": "text",
    "id": "b_ht4NWZ3Bbw"
   },
   "source": [
    "Max-Min Normalization (Min-Max scaling). re-scales features with a distribution value between 0 and 1.\n",
    "In contrast to standardisation, smaller standard deviations through the process of Max-Min Normalisation\n",
    "It implies the data are more concentrated around the mean"
   ]
  },
  {
   "cell_type": "markdown",
   "metadata": {
    "colab_type": "text",
    "id": "nzgpGOYI3cpj"
   },
   "source": [
    "if you have outliers in your feature (column), normalizing your data will scale most of the data to a small interval, which means all features will have the same scale but does not handle outliers well. Standardisation is more robust to outliers, and in many cases, it is preferable over Max-Min Normalisation."
   ]
  },
  {
   "cell_type": "code",
   "execution_count": null,
   "metadata": {
    "colab": {
     "base_uri": "https://localhost:8080/",
     "height": 184
    },
    "colab_type": "code",
    "id": "kqIlQsA33zHB",
    "outputId": "36f1a126-06d9-413a-9feb-aa4d1b2500ff"
   },
   "outputs": [
    {
     "name": "stdout",
     "output_type": "stream",
     "text": [
      "[['France' 0.7391304347826089 0.6857142857142855]\n",
      " ['Spain' 0.0 0.0]\n",
      " ['Germany' 0.1304347826086958 0.17142857142857149]\n",
      " ['Spain' 0.4782608695652175 0.37142857142857144]\n",
      " ['Germany' 0.5652173913043479 nan]\n",
      " ['France' 0.34782608695652173 0.2857142857142856]\n",
      " ['Spain' nan 0.11428571428571432]\n",
      " ['France' 0.9130434782608696 0.8857142857142857]\n",
      " ['Germany' 1.0 1.0]\n",
      " ['France' 0.43478260869565233 0.5428571428571427]]\n"
     ]
    }
   ],
   "source": [
    "X = dataset.iloc[:, :-1].values\n",
    "from sklearn.preprocessing import MinMaxScaler\n",
    "scaler = MinMaxScaler()\n",
    "scaler.fit(X[:, 1:3])\n",
    "X[:, 1:3] =scaler.transform(X[:, 1:3])\n",
    "print(X)"
   ]
  }
 ],
 "metadata": {
  "colab": {
   "name": "DataPreP.ipynb",
   "provenance": [],
   "toc_visible": true
  },
  "kernelspec": {
   "display_name": "Python 3",
   "language": "python",
   "name": "python3"
  },
  "language_info": {
   "codemirror_mode": {
    "name": "ipython",
    "version": 3
   },
   "file_extension": ".py",
   "mimetype": "text/x-python",
   "name": "python",
   "nbconvert_exporter": "python",
   "pygments_lexer": "ipython3",
   "version": "3.6.9"
  }
 },
 "nbformat": 4,
 "nbformat_minor": 1
}
