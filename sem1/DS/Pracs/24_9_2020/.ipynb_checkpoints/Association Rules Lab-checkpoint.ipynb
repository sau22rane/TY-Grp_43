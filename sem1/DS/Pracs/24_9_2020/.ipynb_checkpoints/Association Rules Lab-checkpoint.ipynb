{
 "cells": [
  {
   "cell_type": "code",
   "execution_count": 1,
   "metadata": {},
   "outputs": [],
   "source": [
    "import pandas as pd\n",
    "import numpy as np\n",
    "import math"
   ]
  },
  {
   "cell_type": "code",
   "execution_count": 2,
   "metadata": {},
   "outputs": [
    {
     "data": {
      "text/html": [
       "<div>\n",
       "<style scoped>\n",
       "    .dataframe tbody tr th:only-of-type {\n",
       "        vertical-align: middle;\n",
       "    }\n",
       "\n",
       "    .dataframe tbody tr th {\n",
       "        vertical-align: top;\n",
       "    }\n",
       "\n",
       "    .dataframe thead th {\n",
       "        text-align: right;\n",
       "    }\n",
       "</style>\n",
       "<table border=\"1\" class=\"dataframe\">\n",
       "  <thead>\n",
       "    <tr style=\"text-align: right;\">\n",
       "      <th></th>\n",
       "      <th>InvoiceNo</th>\n",
       "      <th>StockCode</th>\n",
       "      <th>Description</th>\n",
       "      <th>Quantity</th>\n",
       "      <th>InvoiceDate</th>\n",
       "      <th>UnitPrice</th>\n",
       "      <th>CustomerID</th>\n",
       "      <th>Country</th>\n",
       "    </tr>\n",
       "  </thead>\n",
       "  <tbody>\n",
       "    <tr>\n",
       "      <td>0</td>\n",
       "      <td>536365</td>\n",
       "      <td>85123A</td>\n",
       "      <td>WHITE HANGING HEART T-LIGHT HOLDER</td>\n",
       "      <td>6</td>\n",
       "      <td>2010-12-01 08:26:00</td>\n",
       "      <td>2.55</td>\n",
       "      <td>17850.0</td>\n",
       "      <td>United Kingdom</td>\n",
       "    </tr>\n",
       "    <tr>\n",
       "      <td>1</td>\n",
       "      <td>536365</td>\n",
       "      <td>71053</td>\n",
       "      <td>WHITE METAL LANTERN</td>\n",
       "      <td>6</td>\n",
       "      <td>2010-12-01 08:26:00</td>\n",
       "      <td>3.39</td>\n",
       "      <td>17850.0</td>\n",
       "      <td>United Kingdom</td>\n",
       "    </tr>\n",
       "    <tr>\n",
       "      <td>2</td>\n",
       "      <td>536365</td>\n",
       "      <td>84406B</td>\n",
       "      <td>CREAM CUPID HEARTS COAT HANGER</td>\n",
       "      <td>8</td>\n",
       "      <td>2010-12-01 08:26:00</td>\n",
       "      <td>2.75</td>\n",
       "      <td>17850.0</td>\n",
       "      <td>United Kingdom</td>\n",
       "    </tr>\n",
       "    <tr>\n",
       "      <td>3</td>\n",
       "      <td>536365</td>\n",
       "      <td>84029G</td>\n",
       "      <td>KNITTED UNION FLAG HOT WATER BOTTLE</td>\n",
       "      <td>6</td>\n",
       "      <td>2010-12-01 08:26:00</td>\n",
       "      <td>3.39</td>\n",
       "      <td>17850.0</td>\n",
       "      <td>United Kingdom</td>\n",
       "    </tr>\n",
       "    <tr>\n",
       "      <td>4</td>\n",
       "      <td>536365</td>\n",
       "      <td>84029E</td>\n",
       "      <td>RED WOOLLY HOTTIE WHITE HEART.</td>\n",
       "      <td>6</td>\n",
       "      <td>2010-12-01 08:26:00</td>\n",
       "      <td>3.39</td>\n",
       "      <td>17850.0</td>\n",
       "      <td>United Kingdom</td>\n",
       "    </tr>\n",
       "  </tbody>\n",
       "</table>\n",
       "</div>"
      ],
      "text/plain": [
       "  InvoiceNo StockCode                          Description  Quantity  \\\n",
       "0    536365    85123A   WHITE HANGING HEART T-LIGHT HOLDER         6   \n",
       "1    536365     71053                  WHITE METAL LANTERN         6   \n",
       "2    536365    84406B       CREAM CUPID HEARTS COAT HANGER         8   \n",
       "3    536365    84029G  KNITTED UNION FLAG HOT WATER BOTTLE         6   \n",
       "4    536365    84029E       RED WOOLLY HOTTIE WHITE HEART.         6   \n",
       "\n",
       "          InvoiceDate  UnitPrice  CustomerID         Country  \n",
       "0 2010-12-01 08:26:00       2.55     17850.0  United Kingdom  \n",
       "1 2010-12-01 08:26:00       3.39     17850.0  United Kingdom  \n",
       "2 2010-12-01 08:26:00       2.75     17850.0  United Kingdom  \n",
       "3 2010-12-01 08:26:00       3.39     17850.0  United Kingdom  \n",
       "4 2010-12-01 08:26:00       3.39     17850.0  United Kingdom  "
      ]
     },
     "execution_count": 2,
     "metadata": {},
     "output_type": "execute_result"
    }
   ],
   "source": [
    "df = pd.read_excel(\"Online Retail.xlsx\")\n",
    "df.head()"
   ]
  },
  {
   "cell_type": "code",
   "execution_count": 3,
   "metadata": {},
   "outputs": [
    {
     "data": {
      "text/plain": [
       "InvoiceNo              object\n",
       "StockCode              object\n",
       "Description            object\n",
       "Quantity                int64\n",
       "InvoiceDate    datetime64[ns]\n",
       "UnitPrice             float64\n",
       "CustomerID            float64\n",
       "Country                object\n",
       "dtype: object"
      ]
     },
     "execution_count": 3,
     "metadata": {},
     "output_type": "execute_result"
    }
   ],
   "source": [
    "df.dtypes"
   ]
  },
  {
   "cell_type": "code",
   "execution_count": 5,
   "metadata": {},
   "outputs": [],
   "source": [
    "df['Description'] = df['Description'].str.strip()\n",
    "df.dropna(axis=0, subset=['InvoiceNo'], inplace=True)\n",
    "df['InvoiceNo'] = df['InvoiceNo'].astype('str')\n",
    "df = df[~df['InvoiceNo'].str.contains('C')]"
   ]
  },
  {
   "cell_type": "code",
   "execution_count": 7,
   "metadata": {},
   "outputs": [],
   "source": [
    "# Set transactions\n",
    "gp_invoiceno = df.groupby(['InvoiceNo','InvoiceDate'])\n",
    "transactions = []\n",
    "for name,group in gp_invoiceno:\n",
    "    transactions.append(list(group['Description'].map(str)))"
   ]
  },
  {
   "cell_type": "code",
   "execution_count": 16,
   "metadata": {},
   "outputs": [
    {
     "data": {
      "text/plain": [
       "['WHITE HANGING HEART T-LIGHT HOLDER',\n",
       " 'WHITE METAL LANTERN',\n",
       " 'CREAM CUPID HEARTS COAT HANGER',\n",
       " 'KNITTED UNION FLAG HOT WATER BOTTLE',\n",
       " 'RED WOOLLY HOTTIE WHITE HEART.',\n",
       " 'SET 7 BABUSHKA NESTING BOXES',\n",
       " 'GLASS STAR FROSTED T-LIGHT HOLDER']"
      ]
     },
     "execution_count": 16,
     "metadata": {},
     "output_type": "execute_result"
    }
   ],
   "source": [
    "transactions[0]"
   ]
  },
  {
   "cell_type": "code",
   "execution_count": 36,
   "metadata": {},
   "outputs": [],
   "source": [
    "from apyori import apriori\n",
    "rules = apriori( transactions , min_support = 0.01, min_confidence = 0.8, max_length = 10)"
   ]
  },
  {
   "cell_type": "code",
   "execution_count": 37,
   "metadata": {},
   "outputs": [
    {
     "data": {
      "text/plain": [
       "[RelationRecord(items=frozenset({'PINK REGENCY TEACUP AND SAUCER', 'GREEN REGENCY TEACUP AND SAUCER'}), support=0.02863475979372116, ordered_statistics=[OrderedStatistic(items_base=frozenset({'PINK REGENCY TEACUP AND SAUCER'}), items_add=frozenset({'GREEN REGENCY TEACUP AND SAUCER'}), confidence=0.8263707571801566, lift=17.99778518051679)]),\n",
       " RelationRecord(items=frozenset({'REGENCY TEA PLATE GREEN', 'REGENCY TEA PLATE PINK'}), support=0.012575771283814348, ordered_statistics=[OrderedStatistic(items_base=frozenset({'REGENCY TEA PLATE PINK'}), items_add=frozenset({'REGENCY TEA PLATE GREEN'}), confidence=0.9114754098360655, lift=52.88471236177444)]),\n",
       " RelationRecord(items=frozenset({'REGENCY TEA PLATE GREEN', 'REGENCY TEA PLATE ROSES'}), support=0.014430471365240206, ordered_statistics=[OrderedStatistic(items_base=frozenset({'REGENCY TEA PLATE GREEN'}), items_add=frozenset({'REGENCY TEA PLATE ROSES'}), confidence=0.837270341207349, lift=41.592580140965524)]),\n",
       " RelationRecord(items=frozenset({'REGENCY TEA PLATE ROSES', 'REGENCY TEA PLATE PINK'}), support=0.012168641997647698, ordered_statistics=[OrderedStatistic(items_base=frozenset({'REGENCY TEA PLATE PINK'}), items_add=frozenset({'REGENCY TEA PLATE ROSES'}), confidence=0.8819672131147541, lift=43.81296002947136)]),\n",
       " RelationRecord(items=frozenset({'SET/6 RED SPOTTY PAPER PLATES', 'SET/6 RED SPOTTY PAPER CUPS'}), support=0.015832805573147563, ordered_statistics=[OrderedStatistic(items_base=frozenset({'SET/6 RED SPOTTY PAPER CUPS'}), items_add=frozenset({'SET/6 RED SPOTTY PAPER PLATES'}), confidence=0.8177570093457944, lift=34.23737963749646)]),\n",
       " RelationRecord(items=frozenset({'WOODEN TREE CHRISTMAS SCANDINAVIAN', 'WOODEN STAR CHRISTMAS SCANDINAVIAN'}), support=0.0127114810458699, ordered_statistics=[OrderedStatistic(items_base=frozenset({'WOODEN TREE CHRISTMAS SCANDINAVIAN'}), items_add=frozenset({'WOODEN STAR CHRISTMAS SCANDINAVIAN'}), confidence=0.8313609467455622, lift=35.89465837647929)]),\n",
       " RelationRecord(items=frozenset({'ALARM CLOCK BAKELIKE CHOCOLATE', 'ALARM CLOCK BAKELIKE RED', 'ALARM CLOCK BAKELIKE GREEN'}), support=0.01017823215416629, ordered_statistics=[OrderedStatistic(items_base=frozenset({'ALARM CLOCK BAKELIKE CHOCOLATE', 'ALARM CLOCK BAKELIKE GREEN'}), items_add=frozenset({'ALARM CLOCK BAKELIKE RED'}), confidence=0.8122743682310469, lift=17.084811783173667)]),\n",
       " RelationRecord(items=frozenset({'RED RETROSPOT CHARLOTTE BAG', 'CHARLOTTE BAG PINK POLKADOT', 'LUNCH BAG  BLACK SKULL.'}), support=0.01013299556681444, ordered_statistics=[OrderedStatistic(items_base=frozenset({'CHARLOTTE BAG PINK POLKADOT', 'LUNCH BAG  BLACK SKULL.'}), items_add=frozenset({'RED RETROSPOT CHARLOTTE BAG'}), confidence=0.8296296296296296, lift=17.736743319722045)]),\n",
       " RelationRecord(items=frozenset({'STRAWBERRY CHARLOTTE BAG', 'RED RETROSPOT CHARLOTTE BAG', 'CHARLOTTE BAG PINK POLKADOT'}), support=0.014656654301999457, ordered_statistics=[OrderedStatistic(items_base=frozenset({'STRAWBERRY CHARLOTTE BAG', 'CHARLOTTE BAG PINK POLKADOT'}), items_add=frozenset({'RED RETROSPOT CHARLOTTE BAG'}), confidence=0.8594164456233422, lift=18.3735589428913)]),\n",
       " RelationRecord(items=frozenset({'RED RETROSPOT CHARLOTTE BAG', 'WOODLAND CHARLOTTE BAG', 'CHARLOTTE BAG PINK POLKADOT'}), support=0.014611417714647607, ordered_statistics=[OrderedStatistic(items_base=frozenset({'WOODLAND CHARLOTTE BAG', 'CHARLOTTE BAG PINK POLKADOT'}), items_add=frozenset({'RED RETROSPOT CHARLOTTE BAG'}), confidence=0.821882951653944, lift=17.571126237197376)]),\n",
       " RelationRecord(items=frozenset({'STRAWBERRY CHARLOTTE BAG', 'RED RETROSPOT CHARLOTTE BAG', 'CHARLOTTE BAG SUKI DESIGN'}), support=0.015018547000814259, ordered_statistics=[OrderedStatistic(items_base=frozenset({'STRAWBERRY CHARLOTTE BAG', 'CHARLOTTE BAG SUKI DESIGN'}), items_add=frozenset({'RED RETROSPOT CHARLOTTE BAG'}), confidence=0.8038740920096852, lift=17.186112841359865)]),\n",
       " RelationRecord(items=frozenset({'JUMBO BAG RED RETROSPOT', 'DOTCOM POSTAGE', 'GREEN REGENCY TEACUP AND SAUCER'}), support=0.01026870532886999, ordered_statistics=[OrderedStatistic(items_base=frozenset({'JUMBO BAG RED RETROSPOT', 'GREEN REGENCY TEACUP AND SAUCER'}), items_add=frozenset({'DOTCOM POSTAGE'}), confidence=0.8407407407407407, lift=26.25058589663109)]),\n",
       " RelationRecord(items=frozenset({'DOTCOM POSTAGE', 'GREEN REGENCY TEACUP AND SAUCER', 'ROSES REGENCY TEACUP AND SAUCER'}), support=0.010540124852981092, ordered_statistics=[OrderedStatistic(items_base=frozenset({'DOTCOM POSTAGE', 'ROSES REGENCY TEACUP AND SAUCER'}), items_add=frozenset({'GREEN REGENCY TEACUP AND SAUCER'}), confidence=0.8118466898954705, lift=17.681461011654452)]),\n",
       " RelationRecord(items=frozenset({'JUMBO BAG PINK POLKADOT', 'DOTCOM POSTAGE', 'JUMBO BAG RED RETROSPOT'}), support=0.012530534696462498, ordered_statistics=[OrderedStatistic(items_base=frozenset({'JUMBO BAG PINK POLKADOT', 'DOTCOM POSTAGE'}), items_add=frozenset({'JUMBO BAG RED RETROSPOT'}), confidence=0.8028985507246377, lift=8.484166043173442)]),\n",
       " RelationRecord(items=frozenset({'JUMBO BAG RED RETROSPOT', 'DOTCOM POSTAGE', 'SUKI  SHOULDER BAG'}), support=0.011218673663258844, ordered_statistics=[OrderedStatistic(items_base=frozenset({'JUMBO BAG RED RETROSPOT', 'SUKI  SHOULDER BAG'}), items_add=frozenset({'DOTCOM POSTAGE'}), confidence=0.8825622775800711, lift=27.55638659348171)]),\n",
       " RelationRecord(items=frozenset({'PINK REGENCY TEACUP AND SAUCER', 'REGENCY CAKESTAND 3 TIER', 'GREEN REGENCY TEACUP AND SAUCER'}), support=0.01551614946168461, ordered_statistics=[OrderedStatistic(items_base=frozenset({'PINK REGENCY TEACUP AND SAUCER', 'REGENCY CAKESTAND 3 TIER'}), items_add=frozenset({'GREEN REGENCY TEACUP AND SAUCER'}), confidence=0.8749999999999999, lift=19.056896551724133)]),\n",
       " RelationRecord(items=frozenset({'PINK REGENCY TEACUP AND SAUCER', 'GREEN REGENCY TEACUP AND SAUCER', 'ROSES REGENCY TEACUP AND SAUCER'}), support=0.024518230344702796, ordered_statistics=[OrderedStatistic(items_base=frozenset({'PINK REGENCY TEACUP AND SAUCER', 'GREEN REGENCY TEACUP AND SAUCER'}), items_add=frozenset({'ROSES REGENCY TEACUP AND SAUCER'}), confidence=0.8562401263823065, lift=17.756139056104377), OrderedStatistic(items_base=frozenset({'PINK REGENCY TEACUP AND SAUCER', 'ROSES REGENCY TEACUP AND SAUCER'}), items_add=frozenset({'GREEN REGENCY TEACUP AND SAUCER'}), confidence=0.9048414023372287, lift=19.706821714351502)]),\n",
       " RelationRecord(items=frozenset({'REGENCY CAKESTAND 3 TIER', 'GREEN REGENCY TEACUP AND SAUCER', 'ROSES REGENCY TEACUP AND SAUCER'}), support=0.01845652763955487, ordered_statistics=[OrderedStatistic(items_base=frozenset({'REGENCY CAKESTAND 3 TIER', 'GREEN REGENCY TEACUP AND SAUCER'}), items_add=frozenset({'ROSES REGENCY TEACUP AND SAUCER'}), confidence=0.8015717092337917, lift=16.622461730133395)]),\n",
       " RelationRecord(items=frozenset({'JUMBO BAG PINK POLKADOT', 'JUMBO BAG RED RETROSPOT', 'JUMBO BAG SCANDINAVIAN BLUE PAISLEY'}), support=0.012123405410295848, ordered_statistics=[OrderedStatistic(items_base=frozenset({'JUMBO BAG PINK POLKADOT', 'JUMBO BAG SCANDINAVIAN BLUE PAISLEY'}), items_add=frozenset({'JUMBO BAG RED RETROSPOT'}), confidence=0.8427672955974843, lift=8.905455944779153)]),\n",
       " RelationRecord(items=frozenset({'JUMBO BAG PINK POLKADOT', 'JUMBO BAG RED RETROSPOT', 'JUMBO BAG STRAWBERRY'}), support=0.0126210078711662, ordered_statistics=[OrderedStatistic(items_base=frozenset({'JUMBO BAG PINK POLKADOT', 'JUMBO BAG STRAWBERRY'}), items_add=frozenset({'JUMBO BAG RED RETROSPOT'}), confidence=0.8017241379310345, lift=8.471756115250214)]),\n",
       " RelationRecord(items=frozenset({'JUMBO BAG TOYS', 'JUMBO BAG PINK POLKADOT', 'JUMBO BAG RED RETROSPOT'}), support=0.010540124852981092, ordered_statistics=[OrderedStatistic(items_base=frozenset({'JUMBO BAG TOYS', 'JUMBO BAG PINK POLKADOT'}), items_add=frozenset({'JUMBO BAG RED RETROSPOT'}), confidence=0.8262411347517731, lift=8.730825298672416)]),\n",
       " RelationRecord(items=frozenset({'JUMBO SHOPPER VINTAGE RED PAISLEY', 'JUMBO BAG PINK POLKADOT', 'JUMBO BAG RED RETROSPOT'}), support=0.017099430018999367, ordered_statistics=[OrderedStatistic(items_base=frozenset({'JUMBO SHOPPER VINTAGE RED PAISLEY', 'JUMBO BAG PINK POLKADOT'}), items_add=frozenset({'JUMBO BAG RED RETROSPOT'}), confidence=0.8076923076923077, lift=8.534821297249595)]),\n",
       " RelationRecord(items=frozenset({'RECYCLING BAG RETROSPOT', 'JUMBO BAG PINK POLKADOT', 'JUMBO BAG RED RETROSPOT'}), support=0.010992490726499594, ordered_statistics=[OrderedStatistic(items_base=frozenset({'RECYCLING BAG RETROSPOT', 'JUMBO BAG PINK POLKADOT'}), items_add=frozenset({'JUMBO BAG RED RETROSPOT'}), confidence=0.8127090301003346, lift=8.587832609654873)]),\n",
       " RelationRecord(items=frozenset({'JUMBO BAG RED RETROSPOT', 'JUMBO BAG SCANDINAVIAN BLUE PAISLEY', 'JUMBO STORAGE BAG SUKI'}), support=0.010992490726499594, ordered_statistics=[OrderedStatistic(items_base=frozenset({'JUMBO BAG SCANDINAVIAN BLUE PAISLEY', 'JUMBO STORAGE BAG SUKI'}), items_add=frozenset({'JUMBO BAG RED RETROSPOT'}), confidence=0.8046357615894041, lift=8.502523014194725)]),\n",
       " RelationRecord(items=frozenset({'STRAWBERRY CHARLOTTE BAG', 'RED RETROSPOT CHARLOTTE BAG', 'LUNCH BAG  BLACK SKULL.'}), support=0.01017823215416629, ordered_statistics=[OrderedStatistic(items_base=frozenset({'STRAWBERRY CHARLOTTE BAG', 'LUNCH BAG  BLACK SKULL.'}), items_add=frozenset({'RED RETROSPOT CHARLOTTE BAG'}), confidence=0.800711743772242, lift=17.118504649738085)]),\n",
       " RelationRecord(items=frozenset({'PINK REGENCY TEACUP AND SAUCER', 'REGENCY CAKESTAND 3 TIER', 'ROSES REGENCY TEACUP AND SAUCER'}), support=0.014973310413462408, ordered_statistics=[OrderedStatistic(items_base=frozenset({'PINK REGENCY TEACUP AND SAUCER', 'REGENCY CAKESTAND 3 TIER'}), items_add=frozenset({'ROSES REGENCY TEACUP AND SAUCER'}), confidence=0.8443877551020408, lift=17.51035245242562)]),\n",
       " RelationRecord(items=frozenset({\"POPPY'S PLAYHOUSE KITCHEN\", \"POPPY'S PLAYHOUSE BEDROOM\", \"POPPY'S PLAYHOUSE LIVINGROOM\"}), support=0.01013299556681444, ordered_statistics=[OrderedStatistic(items_base=frozenset({\"POPPY'S PLAYHOUSE BEDROOM\", \"POPPY'S PLAYHOUSE LIVINGROOM\"}), items_add=frozenset({\"POPPY'S PLAYHOUSE KITCHEN\"}), confidence=0.8615384615384616, lift=43.581622953705335), OrderedStatistic(items_base=frozenset({\"POPPY'S PLAYHOUSE KITCHEN\", \"POPPY'S PLAYHOUSE LIVINGROOM\"}), items_add=frozenset({\"POPPY'S PLAYHOUSE BEDROOM\"}), confidence=0.8549618320610687, lift=44.680345767238734)]),\n",
       " RelationRecord(items=frozenset({'STRAWBERRY CHARLOTTE BAG', 'RED RETROSPOT CHARLOTTE BAG', 'WOODLAND CHARLOTTE BAG'}), support=0.014792364064055008, ordered_statistics=[OrderedStatistic(items_base=frozenset({'STRAWBERRY CHARLOTTE BAG', 'WOODLAND CHARLOTTE BAG'}), items_add=frozenset({'RED RETROSPOT CHARLOTTE BAG'}), confidence=0.8054187192118227, lift=17.219135596611753)]),\n",
       " RelationRecord(items=frozenset({'REGENCY TEA PLATE GREEN', 'REGENCY TEA PLATE ROSES', 'REGENCY TEA PLATE PINK'}), support=0.011535329774721796, ordered_statistics=[OrderedStatistic(items_base=frozenset({'REGENCY TEA PLATE PINK'}), items_add=frozenset({'REGENCY TEA PLATE GREEN', 'REGENCY TEA PLATE ROSES'}), confidence=0.8360655737704918, lift=57.937509635644176), OrderedStatistic(items_base=frozenset({'REGENCY TEA PLATE GREEN', 'REGENCY TEA PLATE PINK'}), items_add=frozenset({'REGENCY TEA PLATE ROSES'}), confidence=0.9172661870503598, lift=45.56648613693316), OrderedStatistic(items_base=frozenset({'REGENCY TEA PLATE ROSES', 'REGENCY TEA PLATE PINK'}), items_add=frozenset({'REGENCY TEA PLATE GREEN'}), confidence=0.9479553903345725, lift=55.00131721453034)]),\n",
       " RelationRecord(items=frozenset({'SET/6 RED SPOTTY PAPER PLATES', 'SET/6 RED SPOTTY PAPER CUPS', 'SET/20 RED RETROSPOT PAPER NAPKINS'}), support=0.011987695648240296, ordered_statistics=[OrderedStatistic(items_base=frozenset({'SET/6 RED SPOTTY PAPER CUPS', 'SET/20 RED RETROSPOT PAPER NAPKINS'}), items_add=frozenset({'SET/6 RED SPOTTY PAPER PLATES'}), confidence=0.8952702702702702, lift=37.48266021703522)]),\n",
       " RelationRecord(items=frozenset({'WOODEN TREE CHRISTMAS SCANDINAVIAN', 'WOODEN HEART CHRISTMAS SCANDINAVIAN', 'WOODEN STAR CHRISTMAS SCANDINAVIAN'}), support=0.01044965167827739, ordered_statistics=[OrderedStatistic(items_base=frozenset({'WOODEN TREE CHRISTMAS SCANDINAVIAN', 'WOODEN HEART CHRISTMAS SCANDINAVIAN'}), items_add=frozenset({'WOODEN STAR CHRISTMAS SCANDINAVIAN'}), confidence=0.9277108433734939, lift=40.05464043674698), OrderedStatistic(items_base=frozenset({'WOODEN TREE CHRISTMAS SCANDINAVIAN', 'WOODEN STAR CHRISTMAS SCANDINAVIAN'}), items_add=frozenset({'WOODEN HEART CHRISTMAS SCANDINAVIAN'}), confidence=0.8220640569395017, lift=33.77797033959967)]),\n",
       " RelationRecord(items=frozenset({'STRAWBERRY CHARLOTTE BAG', 'RED RETROSPOT CHARLOTTE BAG', 'CHARLOTTE BAG SUKI DESIGN', 'CHARLOTTE BAG PINK POLKADOT'}), support=0.010992490726499594, ordered_statistics=[OrderedStatistic(items_base=frozenset({'STRAWBERRY CHARLOTTE BAG', 'CHARLOTTE BAG SUKI DESIGN', 'CHARLOTTE BAG PINK POLKADOT'}), items_add=frozenset({'RED RETROSPOT CHARLOTTE BAG'}), confidence=0.9033457249070632, lift=19.31272784796474)]),\n",
       " RelationRecord(items=frozenset({'RED RETROSPOT CHARLOTTE BAG', 'CHARLOTTE BAG SUKI DESIGN', 'WOODLAND CHARLOTTE BAG', 'CHARLOTTE BAG PINK POLKADOT'}), support=0.011263910250610694, ordered_statistics=[OrderedStatistic(items_base=frozenset({'WOODLAND CHARLOTTE BAG', 'CHARLOTTE BAG SUKI DESIGN', 'CHARLOTTE BAG PINK POLKADOT'}), items_add=frozenset({'RED RETROSPOT CHARLOTTE BAG'}), confidence=0.8586206896551725, lift=18.35654638831455)]),\n",
       " RelationRecord(items=frozenset({'STRAWBERRY CHARLOTTE BAG', 'RED RETROSPOT CHARLOTTE BAG', 'WOODLAND CHARLOTTE BAG', 'CHARLOTTE BAG PINK POLKADOT'}), support=0.010856780964444042, ordered_statistics=[OrderedStatistic(items_base=frozenset({'STRAWBERRY CHARLOTTE BAG', 'WOODLAND CHARLOTTE BAG', 'CHARLOTTE BAG PINK POLKADOT'}), items_add=frozenset({'RED RETROSPOT CHARLOTTE BAG'}), confidence=0.9195402298850575, lift=19.658951955356944)]),\n",
       " RelationRecord(items=frozenset({'STRAWBERRY CHARLOTTE BAG', 'RED RETROSPOT CHARLOTTE BAG', 'CHARLOTTE BAG SUKI DESIGN', 'WOODLAND CHARLOTTE BAG'}), support=0.011671039536777346, ordered_statistics=[OrderedStatistic(items_base=frozenset({'STRAWBERRY CHARLOTTE BAG', 'CHARLOTTE BAG SUKI DESIGN', 'WOODLAND CHARLOTTE BAG'}), items_add=frozenset({'RED RETROSPOT CHARLOTTE BAG'}), confidence=0.8571428571428572, lift=18.324951644100583)]),\n",
       " RelationRecord(items=frozenset({'PINK REGENCY TEACUP AND SAUCER', 'REGENCY CAKESTAND 3 TIER', 'GREEN REGENCY TEACUP AND SAUCER', 'ROSES REGENCY TEACUP AND SAUCER'}), support=0.013616212792906902, ordered_statistics=[OrderedStatistic(items_base=frozenset({'PINK REGENCY TEACUP AND SAUCER', 'REGENCY CAKESTAND 3 TIER', 'GREEN REGENCY TEACUP AND SAUCER'}), items_add=frozenset({'ROSES REGENCY TEACUP AND SAUCER'}), confidence=0.8775510204081632, lift=18.198070222460466), OrderedStatistic(items_base=frozenset({'PINK REGENCY TEACUP AND SAUCER', 'REGENCY CAKESTAND 3 TIER', 'ROSES REGENCY TEACUP AND SAUCER'}), items_add=frozenset({'GREEN REGENCY TEACUP AND SAUCER'}), confidence=0.9093655589123867, lift=19.805354724450464)]),\n",
       " RelationRecord(items=frozenset({'JUMBO BAG PINK POLKADOT', 'JUMBO BAG RED RETROSPOT', 'JUMBO STORAGE BAG SUKI', 'JUMBO BAG WOODLAND ANIMALS'}), support=0.010585361440332942, ordered_statistics=[OrderedStatistic(items_base=frozenset({'JUMBO BAG PINK POLKADOT', 'JUMBO STORAGE BAG SUKI', 'JUMBO BAG WOODLAND ANIMALS'}), items_add=frozenset({'JUMBO BAG RED RETROSPOT'}), confidence=0.8417266187050361, lift=8.894459193639353)]),\n",
       " RelationRecord(items=frozenset({'JUMBO SHOPPER VINTAGE RED PAISLEY', 'JUMBO BAG PINK POLKADOT', 'JUMBO BAG RED RETROSPOT', 'JUMBO STORAGE BAG SUKI'}), support=0.012123405410295848, ordered_statistics=[OrderedStatistic(items_base=frozenset({'JUMBO SHOPPER VINTAGE RED PAISLEY', 'JUMBO BAG PINK POLKADOT', 'JUMBO STORAGE BAG SUKI'}), items_add=frozenset({'JUMBO BAG RED RETROSPOT'}), confidence=0.8673139158576052, lift=9.164838156763011)]),\n",
       " RelationRecord(items=frozenset({'JUMBO SHOPPER VINTAGE RED PAISLEY', 'JUMBO BAG RED RETROSPOT', 'JUMBO STORAGE BAG SUKI', 'JUMBO BAG WOODLAND ANIMALS'}), support=0.01004252239211074, ordered_statistics=[OrderedStatistic(items_base=frozenset({'JUMBO SHOPPER VINTAGE RED PAISLEY', 'JUMBO STORAGE BAG SUKI', 'JUMBO BAG WOODLAND ANIMALS'}), items_add=frozenset({'JUMBO BAG RED RETROSPOT'}), confidence=0.8072727272727274, lift=8.530387623848428)])]"
      ]
     },
     "execution_count": 37,
     "metadata": {},
     "output_type": "execute_result"
    }
   ],
   "source": [
    "results = list(rules)\n",
    "results"
   ]
  },
  {
   "cell_type": "code",
   "execution_count": 38,
   "metadata": {},
   "outputs": [
    {
     "name": "stdout",
     "output_type": "stream",
     "text": [
      "There are 39 RULES derived.\n"
     ]
    }
   ],
   "source": [
    "print(\"There are {} RULES derived.\".format(len(results)))"
   ]
  },
  {
   "cell_type": "code",
   "execution_count": 39,
   "metadata": {},
   "outputs": [
    {
     "name": "stdout",
     "output_type": "stream",
     "text": [
      "PINK REGENCY TEACUP AND SAUCER->GREEN REGENCY TEACUP AND SAUCER\n",
      "Support: 0.02863475979372116\n",
      "Confidence: 0.8263707571801566\n",
      "Lift: 17.99778518051679\n",
      "============== 1 =================\n",
      "REGENCY TEA PLATE GREEN->REGENCY TEA PLATE PINK\n",
      "Support: 0.012575771283814348\n",
      "Confidence: 0.9114754098360655\n",
      "Lift: 52.88471236177444\n",
      "============== 2 =================\n",
      "REGENCY TEA PLATE GREEN->REGENCY TEA PLATE ROSES\n",
      "Support: 0.014430471365240206\n",
      "Confidence: 0.837270341207349\n",
      "Lift: 41.592580140965524\n",
      "============== 3 =================\n",
      "REGENCY TEA PLATE ROSES->REGENCY TEA PLATE PINK\n",
      "Support: 0.012168641997647698\n",
      "Confidence: 0.8819672131147541\n",
      "Lift: 43.81296002947136\n",
      "============== 4 =================\n",
      "SET/6 RED SPOTTY PAPER PLATES->SET/6 RED SPOTTY PAPER CUPS\n",
      "Support: 0.015832805573147563\n",
      "Confidence: 0.8177570093457944\n",
      "Lift: 34.23737963749646\n",
      "============== 5 =================\n",
      "WOODEN TREE CHRISTMAS SCANDINAVIAN->WOODEN STAR CHRISTMAS SCANDINAVIAN\n",
      "Support: 0.0127114810458699\n",
      "Confidence: 0.8313609467455622\n",
      "Lift: 35.89465837647929\n",
      "============== 6 =================\n",
      "ALARM CLOCK BAKELIKE CHOCOLATE->ALARM CLOCK BAKELIKE RED\n",
      "Support: 0.01017823215416629\n",
      "Confidence: 0.8122743682310469\n",
      "Lift: 17.084811783173667\n",
      "============== 7 =================\n",
      "RED RETROSPOT CHARLOTTE BAG->CHARLOTTE BAG PINK POLKADOT\n",
      "Support: 0.01013299556681444\n",
      "Confidence: 0.8296296296296296\n",
      "Lift: 17.736743319722045\n",
      "============== 8 =================\n",
      "STRAWBERRY CHARLOTTE BAG->RED RETROSPOT CHARLOTTE BAG\n",
      "Support: 0.014656654301999457\n",
      "Confidence: 0.8594164456233422\n",
      "Lift: 18.3735589428913\n",
      "============== 9 =================\n",
      "RED RETROSPOT CHARLOTTE BAG->WOODLAND CHARLOTTE BAG\n",
      "Support: 0.014611417714647607\n",
      "Confidence: 0.821882951653944\n",
      "Lift: 17.571126237197376\n",
      "============== 10 =================\n"
     ]
    }
   ],
   "source": [
    "for i in  range(10):\n",
    "  item = results[i] \n",
    "  pair=item[0]\n",
    "  #print(pair)\n",
    "  items=[x for x in pair]\n",
    "  #print (items)\n",
    "  print(items[0]+'->'+items[1])\n",
    "  # second index of the inner list\n",
    "  print(\"Support: \" + str(item[1]))\n",
    "  # third index of the list located at 0th\n",
    "  # of the third index of the inner list\n",
    "\n",
    "  print(\"Confidence: \" + str(item[2][0][2]))\n",
    "  print(\"Lift: \" + str(item[2][0][3]))\n",
    "  print(\"==============\",i+1,\"=================\")"
   ]
  },
  {
   "cell_type": "code",
   "execution_count": 40,
   "metadata": {},
   "outputs": [],
   "source": [
    "rules = apriori( transactions ,  min_confidence = 1)"
   ]
  },
  {
   "cell_type": "code",
   "execution_count": 41,
   "metadata": {},
   "outputs": [],
   "source": [
    "results = list(rules)"
   ]
  },
  {
   "cell_type": "code",
   "execution_count": 42,
   "metadata": {},
   "outputs": [
    {
     "name": "stdout",
     "output_type": "stream",
     "text": [
      "There are 0 RULES derived.\n"
     ]
    }
   ],
   "source": [
    "print(\"There are {} RULES derived.\".format(len(results)))"
   ]
  },
  {
   "cell_type": "code",
   "execution_count": 43,
   "metadata": {},
   "outputs": [],
   "source": [
    "rules = apriori( transactions , max_length = 3)"
   ]
  },
  {
   "cell_type": "code",
   "execution_count": 44,
   "metadata": {},
   "outputs": [
    {
     "name": "stdout",
     "output_type": "stream",
     "text": [
      "There are 1 RULES derived.\n"
     ]
    }
   ],
   "source": [
    "results = list(rules)\n",
    "print(\"There are {} RULES derived.\".format(len(results)))"
   ]
  },
  {
   "cell_type": "code",
   "execution_count": 45,
   "metadata": {},
   "outputs": [
    {
     "data": {
      "text/plain": [
       "[RelationRecord(items=frozenset({'WHITE HANGING HEART T-LIGHT HOLDER'}), support=0.1022346874151814, ordered_statistics=[OrderedStatistic(items_base=frozenset(), items_add=frozenset({'WHITE HANGING HEART T-LIGHT HOLDER'}), confidence=0.1022346874151814, lift=1.0)])]"
      ]
     },
     "execution_count": 45,
     "metadata": {},
     "output_type": "execute_result"
    }
   ],
   "source": [
    "results"
   ]
  }
 ],
 "metadata": {
  "kernelspec": {
   "display_name": "Python 3",
   "language": "python",
   "name": "python3"
  },
  "language_info": {
   "codemirror_mode": {
    "name": "ipython",
    "version": 3
   },
   "file_extension": ".py",
   "mimetype": "text/x-python",
   "name": "python",
   "nbconvert_exporter": "python",
   "pygments_lexer": "ipython3",
   "version": "3.6.9"
  }
 },
 "nbformat": 4,
 "nbformat_minor": 2
}
