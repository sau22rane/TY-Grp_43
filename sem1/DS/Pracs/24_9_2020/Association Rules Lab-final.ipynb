{
 "cells": [
  {
   "cell_type": "markdown",
   "metadata": {},
   "source": [
    "## APRIORI"
   ]
  },
  {
   "cell_type": "code",
   "execution_count": 1,
   "metadata": {},
   "outputs": [],
   "source": [
    "import pandas as pd\n",
    "import numpy as np\n",
    "import math"
   ]
  },
  {
   "cell_type": "code",
   "execution_count": 2,
   "metadata": {},
   "outputs": [
    {
     "data": {
      "text/html": [
       "<div>\n",
       "<style scoped>\n",
       "    .dataframe tbody tr th:only-of-type {\n",
       "        vertical-align: middle;\n",
       "    }\n",
       "\n",
       "    .dataframe tbody tr th {\n",
       "        vertical-align: top;\n",
       "    }\n",
       "\n",
       "    .dataframe thead th {\n",
       "        text-align: right;\n",
       "    }\n",
       "</style>\n",
       "<table border=\"1\" class=\"dataframe\">\n",
       "  <thead>\n",
       "    <tr style=\"text-align: right;\">\n",
       "      <th></th>\n",
       "      <th>InvoiceNo</th>\n",
       "      <th>StockCode</th>\n",
       "      <th>Description</th>\n",
       "      <th>Quantity</th>\n",
       "      <th>InvoiceDate</th>\n",
       "      <th>UnitPrice</th>\n",
       "      <th>CustomerID</th>\n",
       "      <th>Country</th>\n",
       "    </tr>\n",
       "  </thead>\n",
       "  <tbody>\n",
       "    <tr>\n",
       "      <th>0</th>\n",
       "      <td>536365</td>\n",
       "      <td>85123A</td>\n",
       "      <td>WHITE HANGING HEART T-LIGHT HOLDER</td>\n",
       "      <td>6</td>\n",
       "      <td>12/1/2010 8:26</td>\n",
       "      <td>2.55</td>\n",
       "      <td>17850.0</td>\n",
       "      <td>United Kingdom</td>\n",
       "    </tr>\n",
       "    <tr>\n",
       "      <th>1</th>\n",
       "      <td>536365</td>\n",
       "      <td>71053</td>\n",
       "      <td>WHITE METAL LANTERN</td>\n",
       "      <td>6</td>\n",
       "      <td>12/1/2010 8:26</td>\n",
       "      <td>3.39</td>\n",
       "      <td>17850.0</td>\n",
       "      <td>United Kingdom</td>\n",
       "    </tr>\n",
       "    <tr>\n",
       "      <th>2</th>\n",
       "      <td>536365</td>\n",
       "      <td>84406B</td>\n",
       "      <td>CREAM CUPID HEARTS COAT HANGER</td>\n",
       "      <td>8</td>\n",
       "      <td>12/1/2010 8:26</td>\n",
       "      <td>2.75</td>\n",
       "      <td>17850.0</td>\n",
       "      <td>United Kingdom</td>\n",
       "    </tr>\n",
       "    <tr>\n",
       "      <th>3</th>\n",
       "      <td>536365</td>\n",
       "      <td>84029G</td>\n",
       "      <td>KNITTED UNION FLAG HOT WATER BOTTLE</td>\n",
       "      <td>6</td>\n",
       "      <td>12/1/2010 8:26</td>\n",
       "      <td>3.39</td>\n",
       "      <td>17850.0</td>\n",
       "      <td>United Kingdom</td>\n",
       "    </tr>\n",
       "    <tr>\n",
       "      <th>4</th>\n",
       "      <td>536365</td>\n",
       "      <td>84029E</td>\n",
       "      <td>RED WOOLLY HOTTIE WHITE HEART.</td>\n",
       "      <td>6</td>\n",
       "      <td>12/1/2010 8:26</td>\n",
       "      <td>3.39</td>\n",
       "      <td>17850.0</td>\n",
       "      <td>United Kingdom</td>\n",
       "    </tr>\n",
       "  </tbody>\n",
       "</table>\n",
       "</div>"
      ],
      "text/plain": [
       "  InvoiceNo StockCode                          Description  Quantity  \\\n",
       "0    536365    85123A   WHITE HANGING HEART T-LIGHT HOLDER         6   \n",
       "1    536365     71053                  WHITE METAL LANTERN         6   \n",
       "2    536365    84406B       CREAM CUPID HEARTS COAT HANGER         8   \n",
       "3    536365    84029G  KNITTED UNION FLAG HOT WATER BOTTLE         6   \n",
       "4    536365    84029E       RED WOOLLY HOTTIE WHITE HEART.         6   \n",
       "\n",
       "      InvoiceDate  UnitPrice  CustomerID         Country  \n",
       "0  12/1/2010 8:26       2.55     17850.0  United Kingdom  \n",
       "1  12/1/2010 8:26       3.39     17850.0  United Kingdom  \n",
       "2  12/1/2010 8:26       2.75     17850.0  United Kingdom  \n",
       "3  12/1/2010 8:26       3.39     17850.0  United Kingdom  \n",
       "4  12/1/2010 8:26       3.39     17850.0  United Kingdom  "
      ]
     },
     "execution_count": 2,
     "metadata": {},
     "output_type": "execute_result"
    }
   ],
   "source": [
    "df = pd.read_csv(\"OnlineRetail.csv\")\n",
    "df.head()"
   ]
  },
  {
   "cell_type": "code",
   "execution_count": 3,
   "metadata": {},
   "outputs": [
    {
     "data": {
      "text/plain": [
       "InvoiceNo       object\n",
       "StockCode       object\n",
       "Description     object\n",
       "Quantity         int64\n",
       "InvoiceDate     object\n",
       "UnitPrice      float64\n",
       "CustomerID     float64\n",
       "Country         object\n",
       "dtype: object"
      ]
     },
     "execution_count": 3,
     "metadata": {},
     "output_type": "execute_result"
    }
   ],
   "source": [
    "df.dtypes"
   ]
  },
  {
   "cell_type": "code",
   "execution_count": 4,
   "metadata": {},
   "outputs": [],
   "source": [
    "df['Description'] = df['Description'].str.strip()\n",
    "df.dropna(axis=0, subset=['InvoiceNo'], inplace=True)\n",
    "df['InvoiceNo'] = df['InvoiceNo'].astype('str')\n",
    "df = df[~df['InvoiceNo'].str.contains('C')]"
   ]
  },
  {
   "cell_type": "code",
   "execution_count": 5,
   "metadata": {},
   "outputs": [
    {
     "data": {
      "text/plain": [
       "532621"
      ]
     },
     "execution_count": 5,
     "metadata": {},
     "output_type": "execute_result"
    }
   ],
   "source": [
    "len(df)"
   ]
  },
  {
   "cell_type": "code",
   "execution_count": 6,
   "metadata": {},
   "outputs": [],
   "source": [
    "grps = df.groupby(['InvoiceNo','InvoiceDate'])\n",
    "transactions = []\n",
    "longest_count = 0\n",
    "one,two,three,eight = 0,0,0,0\n",
    "longest_invoice = 0\n",
    "longest = []\n",
    "for i,j in grps:\n",
    "    if(longest_count<len(j)):\n",
    "        longest_count = len(j)\n",
    "        longest_invoice = i\n",
    "        longest = list(j['Description'].map(str))\n",
    "    if(len(j)==1):\n",
    "        one+=1\n",
    "    elif(len(j)==2):\n",
    "        two+=1\n",
    "    elif(len(j)==3):\n",
    "        three+=1\n",
    "    elif(len(j)==8):\n",
    "        eight+=1\n",
    "    transactions.append(list(j['Description'].map(str)))"
   ]
  },
  {
   "cell_type": "markdown",
   "metadata": {},
   "source": [
    "#### Get a total number of transactions with 1 item, 2 items , 3 items and 8 items."
   ]
  },
  {
   "cell_type": "code",
   "execution_count": 7,
   "metadata": {},
   "outputs": [
    {
     "name": "stdout",
     "output_type": "stream",
     "text": [
      "There are 3718 transactions with one item(s).\n",
      "There are 843 transactions with two item(s).\n",
      "There are 697 transactions with three item(s).\n",
      "There are 605 transactions with eight item(s).\n"
     ]
    }
   ],
   "source": [
    "print(\"There are {} transactions with {} item(s).\".format(one,\"one\"))\n",
    "print(\"There are {} transactions with {} item(s).\".format(two,\"two\"))\n",
    "print(\"There are {} transactions with {} item(s).\".format(three,\"three\"))\n",
    "print(\"There are {} transactions with {} item(s).\".format(eight,\"eight\"))"
   ]
  },
  {
   "cell_type": "markdown",
   "metadata": {},
   "source": [
    "#### Get the number of items in the longest transaction"
   ]
  },
  {
   "cell_type": "code",
   "execution_count": 8,
   "metadata": {},
   "outputs": [
    {
     "name": "stdout",
     "output_type": "stream",
     "text": [
      "Longest transaction \n",
      "Invoice number: 573585\n",
      "Date: 10/31/2011 14:41\n",
      "Number of items: 1114\n"
     ]
    }
   ],
   "source": [
    "print(\"Longest transaction \\nInvoice number: {}\\nDate: {}\\nNumber of items: {}\".format(longest_invoice[0],longest_invoice[1],longest_count))"
   ]
  },
  {
   "cell_type": "code",
   "execution_count": 9,
   "metadata": {},
   "outputs": [
    {
     "name": "stdout",
     "output_type": "stream",
     "text": [
      "Longest transaction items:\n",
      "['ASSTD DESIGN RACING CAR PEN', 'ASSORTED COLOURS SILK FAN', 'SANDALWOOD FAN', 'EDWARDIAN PARASOL BLACK', 'EDWARDIAN PARASOL NATURAL', 'ICE CREAM DESIGN GARDEN PARASOL', 'FUNKY MONKEY GIFT BAG MEDIUM', 'HOUSE SHAPE PENCIL SHARPENER', 'RECYCLED PENCIL WITH RABBIT ERASER', 'KITTY PENCIL ERASERS'] And more.....\n"
     ]
    }
   ],
   "source": [
    "print(\"Longest transaction items:\")\n",
    "print(longest[:10],\"And more.....\")"
   ]
  },
  {
   "cell_type": "markdown",
   "metadata": {},
   "source": [
    "#### Store (only items) transaction data into a .csv file."
   ]
  },
  {
   "cell_type": "code",
   "execution_count": 10,
   "metadata": {},
   "outputs": [
    {
     "data": {
      "text/html": [
       "<div>\n",
       "<style scoped>\n",
       "    .dataframe tbody tr th:only-of-type {\n",
       "        vertical-align: middle;\n",
       "    }\n",
       "\n",
       "    .dataframe tbody tr th {\n",
       "        vertical-align: top;\n",
       "    }\n",
       "\n",
       "    .dataframe thead th {\n",
       "        text-align: right;\n",
       "    }\n",
       "</style>\n",
       "<table border=\"1\" class=\"dataframe\">\n",
       "  <thead>\n",
       "    <tr style=\"text-align: right;\">\n",
       "      <th></th>\n",
       "      <th>0</th>\n",
       "      <th>1</th>\n",
       "      <th>2</th>\n",
       "      <th>3</th>\n",
       "      <th>4</th>\n",
       "      <th>5</th>\n",
       "      <th>6</th>\n",
       "      <th>7</th>\n",
       "      <th>8</th>\n",
       "      <th>9</th>\n",
       "      <th>...</th>\n",
       "      <th>1104</th>\n",
       "      <th>1105</th>\n",
       "      <th>1106</th>\n",
       "      <th>1107</th>\n",
       "      <th>1108</th>\n",
       "      <th>1109</th>\n",
       "      <th>1110</th>\n",
       "      <th>1111</th>\n",
       "      <th>1112</th>\n",
       "      <th>1113</th>\n",
       "    </tr>\n",
       "  </thead>\n",
       "  <tbody>\n",
       "    <tr>\n",
       "      <th>0</th>\n",
       "      <td>WHITE HANGING HEART T-LIGHT HOLDER</td>\n",
       "      <td>WHITE METAL LANTERN</td>\n",
       "      <td>CREAM CUPID HEARTS COAT HANGER</td>\n",
       "      <td>KNITTED UNION FLAG HOT WATER BOTTLE</td>\n",
       "      <td>RED WOOLLY HOTTIE WHITE HEART.</td>\n",
       "      <td>SET 7 BABUSHKA NESTING BOXES</td>\n",
       "      <td>GLASS STAR FROSTED T-LIGHT HOLDER</td>\n",
       "      <td>None</td>\n",
       "      <td>None</td>\n",
       "      <td>None</td>\n",
       "      <td>...</td>\n",
       "      <td>None</td>\n",
       "      <td>None</td>\n",
       "      <td>None</td>\n",
       "      <td>None</td>\n",
       "      <td>None</td>\n",
       "      <td>None</td>\n",
       "      <td>None</td>\n",
       "      <td>None</td>\n",
       "      <td>None</td>\n",
       "      <td>None</td>\n",
       "    </tr>\n",
       "    <tr>\n",
       "      <th>1</th>\n",
       "      <td>HAND WARMER UNION JACK</td>\n",
       "      <td>HAND WARMER RED POLKA DOT</td>\n",
       "      <td>None</td>\n",
       "      <td>None</td>\n",
       "      <td>None</td>\n",
       "      <td>None</td>\n",
       "      <td>None</td>\n",
       "      <td>None</td>\n",
       "      <td>None</td>\n",
       "      <td>None</td>\n",
       "      <td>...</td>\n",
       "      <td>None</td>\n",
       "      <td>None</td>\n",
       "      <td>None</td>\n",
       "      <td>None</td>\n",
       "      <td>None</td>\n",
       "      <td>None</td>\n",
       "      <td>None</td>\n",
       "      <td>None</td>\n",
       "      <td>None</td>\n",
       "      <td>None</td>\n",
       "    </tr>\n",
       "    <tr>\n",
       "      <th>2</th>\n",
       "      <td>ASSORTED COLOUR BIRD ORNAMENT</td>\n",
       "      <td>POPPY'S PLAYHOUSE BEDROOM</td>\n",
       "      <td>POPPY'S PLAYHOUSE KITCHEN</td>\n",
       "      <td>FELTCRAFT PRINCESS CHARLOTTE DOLL</td>\n",
       "      <td>IVORY KNITTED MUG COSY</td>\n",
       "      <td>BOX OF 6 ASSORTED COLOUR TEASPOONS</td>\n",
       "      <td>BOX OF VINTAGE JIGSAW BLOCKS</td>\n",
       "      <td>BOX OF VINTAGE ALPHABET BLOCKS</td>\n",
       "      <td>HOME BUILDING BLOCK WORD</td>\n",
       "      <td>LOVE BUILDING BLOCK WORD</td>\n",
       "      <td>...</td>\n",
       "      <td>None</td>\n",
       "      <td>None</td>\n",
       "      <td>None</td>\n",
       "      <td>None</td>\n",
       "      <td>None</td>\n",
       "      <td>None</td>\n",
       "      <td>None</td>\n",
       "      <td>None</td>\n",
       "      <td>None</td>\n",
       "      <td>None</td>\n",
       "    </tr>\n",
       "    <tr>\n",
       "      <th>3</th>\n",
       "      <td>JAM MAKING SET WITH JARS</td>\n",
       "      <td>RED COAT RACK PARIS FASHION</td>\n",
       "      <td>YELLOW COAT RACK PARIS FASHION</td>\n",
       "      <td>BLUE COAT RACK PARIS FASHION</td>\n",
       "      <td>None</td>\n",
       "      <td>None</td>\n",
       "      <td>None</td>\n",
       "      <td>None</td>\n",
       "      <td>None</td>\n",
       "      <td>None</td>\n",
       "      <td>...</td>\n",
       "      <td>None</td>\n",
       "      <td>None</td>\n",
       "      <td>None</td>\n",
       "      <td>None</td>\n",
       "      <td>None</td>\n",
       "      <td>None</td>\n",
       "      <td>None</td>\n",
       "      <td>None</td>\n",
       "      <td>None</td>\n",
       "      <td>None</td>\n",
       "    </tr>\n",
       "    <tr>\n",
       "      <th>4</th>\n",
       "      <td>BATH BUILDING BLOCK WORD</td>\n",
       "      <td>None</td>\n",
       "      <td>None</td>\n",
       "      <td>None</td>\n",
       "      <td>None</td>\n",
       "      <td>None</td>\n",
       "      <td>None</td>\n",
       "      <td>None</td>\n",
       "      <td>None</td>\n",
       "      <td>None</td>\n",
       "      <td>...</td>\n",
       "      <td>None</td>\n",
       "      <td>None</td>\n",
       "      <td>None</td>\n",
       "      <td>None</td>\n",
       "      <td>None</td>\n",
       "      <td>None</td>\n",
       "      <td>None</td>\n",
       "      <td>None</td>\n",
       "      <td>None</td>\n",
       "      <td>None</td>\n",
       "    </tr>\n",
       "  </tbody>\n",
       "</table>\n",
       "<p>5 rows × 1114 columns</p>\n",
       "</div>"
      ],
      "text/plain": [
       "                                 0                            1     \\\n",
       "0  WHITE HANGING HEART T-LIGHT HOLDER          WHITE METAL LANTERN   \n",
       "1              HAND WARMER UNION JACK    HAND WARMER RED POLKA DOT   \n",
       "2       ASSORTED COLOUR BIRD ORNAMENT    POPPY'S PLAYHOUSE BEDROOM   \n",
       "3            JAM MAKING SET WITH JARS  RED COAT RACK PARIS FASHION   \n",
       "4            BATH BUILDING BLOCK WORD                         None   \n",
       "\n",
       "                             2                                    3     \\\n",
       "0  CREAM CUPID HEARTS COAT HANGER  KNITTED UNION FLAG HOT WATER BOTTLE   \n",
       "1                            None                                 None   \n",
       "2       POPPY'S PLAYHOUSE KITCHEN    FELTCRAFT PRINCESS CHARLOTTE DOLL   \n",
       "3  YELLOW COAT RACK PARIS FASHION         BLUE COAT RACK PARIS FASHION   \n",
       "4                            None                                 None   \n",
       "\n",
       "                             4                                   5     \\\n",
       "0  RED WOOLLY HOTTIE WHITE HEART.        SET 7 BABUSHKA NESTING BOXES   \n",
       "1                            None                                None   \n",
       "2          IVORY KNITTED MUG COSY  BOX OF 6 ASSORTED COLOUR TEASPOONS   \n",
       "3                            None                                None   \n",
       "4                            None                                None   \n",
       "\n",
       "                                6                               7     \\\n",
       "0  GLASS STAR FROSTED T-LIGHT HOLDER                            None   \n",
       "1                               None                            None   \n",
       "2       BOX OF VINTAGE JIGSAW BLOCKS  BOX OF VINTAGE ALPHABET BLOCKS   \n",
       "3                               None                            None   \n",
       "4                               None                            None   \n",
       "\n",
       "                       8                         9     ...  1104  1105  1106  \\\n",
       "0                      None                      None  ...  None  None  None   \n",
       "1                      None                      None  ...  None  None  None   \n",
       "2  HOME BUILDING BLOCK WORD  LOVE BUILDING BLOCK WORD  ...  None  None  None   \n",
       "3                      None                      None  ...  None  None  None   \n",
       "4                      None                      None  ...  None  None  None   \n",
       "\n",
       "   1107  1108  1109  1110  1111  1112  1113  \n",
       "0  None  None  None  None  None  None  None  \n",
       "1  None  None  None  None  None  None  None  \n",
       "2  None  None  None  None  None  None  None  \n",
       "3  None  None  None  None  None  None  None  \n",
       "4  None  None  None  None  None  None  None  \n",
       "\n",
       "[5 rows x 1114 columns]"
      ]
     },
     "execution_count": 10,
     "metadata": {},
     "output_type": "execute_result"
    }
   ],
   "source": [
    "df2 = pd.DataFrame(transactions)\n",
    "df2.to_csv('transactions.csv')\n",
    "df2.head()"
   ]
  },
  {
   "cell_type": "markdown",
   "metadata": {},
   "source": [
    "#### Display total number of transactions and items of transaction data."
   ]
  },
  {
   "cell_type": "code",
   "execution_count": 11,
   "metadata": {},
   "outputs": [
    {
     "name": "stdout",
     "output_type": "stream",
     "text": [
      "Number of transactions: 22106\n",
      "Number of itmes: 532621\n"
     ]
    }
   ],
   "source": [
    "print(\"Number of transactions: {}\\nNumber of itmes: {}\".format(len(df2),len(df)))"
   ]
  },
  {
   "cell_type": "markdown",
   "metadata": {},
   "source": [
    "#### Min Support as *0.001*, confidence as 0.8 and max length of 10"
   ]
  },
  {
   "cell_type": "code",
   "execution_count": 12,
   "metadata": {},
   "outputs": [],
   "source": [
    "from apyori import apriori\n",
    "rules = apriori( transactions , min_support = 0.01, min_confidence = 0.8, max_length = 10)"
   ]
  },
  {
   "cell_type": "code",
   "execution_count": 13,
   "metadata": {},
   "outputs": [
    {
     "data": {
      "text/plain": [
       "[RelationRecord(items=frozenset({'PINK REGENCY TEACUP AND SAUCER', 'GREEN REGENCY TEACUP AND SAUCER'}), support=0.02863475979372116, ordered_statistics=[OrderedStatistic(items_base=frozenset({'PINK REGENCY TEACUP AND SAUCER'}), items_add=frozenset({'GREEN REGENCY TEACUP AND SAUCER'}), confidence=0.8263707571801566, lift=17.99778518051679)]),\n",
       " RelationRecord(items=frozenset({'REGENCY TEA PLATE PINK', 'REGENCY TEA PLATE GREEN'}), support=0.012575771283814348, ordered_statistics=[OrderedStatistic(items_base=frozenset({'REGENCY TEA PLATE PINK'}), items_add=frozenset({'REGENCY TEA PLATE GREEN'}), confidence=0.9114754098360655, lift=52.88471236177444)]),\n",
       " RelationRecord(items=frozenset({'REGENCY TEA PLATE ROSES', 'REGENCY TEA PLATE GREEN'}), support=0.014430471365240206, ordered_statistics=[OrderedStatistic(items_base=frozenset({'REGENCY TEA PLATE GREEN'}), items_add=frozenset({'REGENCY TEA PLATE ROSES'}), confidence=0.837270341207349, lift=41.592580140965524)]),\n",
       " RelationRecord(items=frozenset({'REGENCY TEA PLATE ROSES', 'REGENCY TEA PLATE PINK'}), support=0.012168641997647698, ordered_statistics=[OrderedStatistic(items_base=frozenset({'REGENCY TEA PLATE PINK'}), items_add=frozenset({'REGENCY TEA PLATE ROSES'}), confidence=0.8819672131147541, lift=43.81296002947136)]),\n",
       " RelationRecord(items=frozenset({'SET/6 RED SPOTTY PAPER PLATES', 'SET/6 RED SPOTTY PAPER CUPS'}), support=0.015832805573147563, ordered_statistics=[OrderedStatistic(items_base=frozenset({'SET/6 RED SPOTTY PAPER CUPS'}), items_add=frozenset({'SET/6 RED SPOTTY PAPER PLATES'}), confidence=0.8177570093457944, lift=34.23737963749646)]),\n",
       " RelationRecord(items=frozenset({'WOODEN TREE CHRISTMAS SCANDINAVIAN', 'WOODEN STAR CHRISTMAS SCANDINAVIAN'}), support=0.0127114810458699, ordered_statistics=[OrderedStatistic(items_base=frozenset({'WOODEN TREE CHRISTMAS SCANDINAVIAN'}), items_add=frozenset({'WOODEN STAR CHRISTMAS SCANDINAVIAN'}), confidence=0.8313609467455622, lift=35.89465837647929)]),\n",
       " RelationRecord(items=frozenset({'ALARM CLOCK BAKELIKE RED', 'ALARM CLOCK BAKELIKE GREEN', 'ALARM CLOCK BAKELIKE CHOCOLATE'}), support=0.01017823215416629, ordered_statistics=[OrderedStatistic(items_base=frozenset({'ALARM CLOCK BAKELIKE GREEN', 'ALARM CLOCK BAKELIKE CHOCOLATE'}), items_add=frozenset({'ALARM CLOCK BAKELIKE RED'}), confidence=0.8122743682310469, lift=17.084811783173667)]),\n",
       " RelationRecord(items=frozenset({'RED RETROSPOT CHARLOTTE BAG', 'LUNCH BAG  BLACK SKULL.', 'CHARLOTTE BAG PINK POLKADOT'}), support=0.01013299556681444, ordered_statistics=[OrderedStatistic(items_base=frozenset({'LUNCH BAG  BLACK SKULL.', 'CHARLOTTE BAG PINK POLKADOT'}), items_add=frozenset({'RED RETROSPOT CHARLOTTE BAG'}), confidence=0.8296296296296296, lift=17.736743319722045)]),\n",
       " RelationRecord(items=frozenset({'RED RETROSPOT CHARLOTTE BAG', 'STRAWBERRY CHARLOTTE BAG', 'CHARLOTTE BAG PINK POLKADOT'}), support=0.014656654301999457, ordered_statistics=[OrderedStatistic(items_base=frozenset({'STRAWBERRY CHARLOTTE BAG', 'CHARLOTTE BAG PINK POLKADOT'}), items_add=frozenset({'RED RETROSPOT CHARLOTTE BAG'}), confidence=0.8594164456233422, lift=18.3735589428913)]),\n",
       " RelationRecord(items=frozenset({'RED RETROSPOT CHARLOTTE BAG', 'WOODLAND CHARLOTTE BAG', 'CHARLOTTE BAG PINK POLKADOT'}), support=0.014611417714647607, ordered_statistics=[OrderedStatistic(items_base=frozenset({'WOODLAND CHARLOTTE BAG', 'CHARLOTTE BAG PINK POLKADOT'}), items_add=frozenset({'RED RETROSPOT CHARLOTTE BAG'}), confidence=0.821882951653944, lift=17.571126237197376)])]"
      ]
     },
     "execution_count": 13,
     "metadata": {},
     "output_type": "execute_result"
    }
   ],
   "source": [
    "results = list(rules)\n",
    "results[:10]"
   ]
  },
  {
   "cell_type": "code",
   "execution_count": 14,
   "metadata": {},
   "outputs": [
    {
     "name": "stdout",
     "output_type": "stream",
     "text": [
      "There are 39 RULES derived.\n"
     ]
    }
   ],
   "source": [
    "print(\"There are {} RULES derived.\".format(len(results)))"
   ]
  },
  {
   "cell_type": "markdown",
   "metadata": {},
   "source": [
    "#### Print only top 10 rules in following format"
   ]
  },
  {
   "cell_type": "code",
   "execution_count": 15,
   "metadata": {},
   "outputs": [
    {
     "name": "stdout",
     "output_type": "stream",
     "text": [
      "PINK REGENCY TEACUP AND SAUCER->GREEN REGENCY TEACUP AND SAUCER\n",
      "Support: 0.02863475979372116\n",
      "Confidence: 0.8263707571801566\n",
      "Lift: 17.99778518051679\n",
      "============== 1 =================\n",
      "REGENCY TEA PLATE PINK->REGENCY TEA PLATE GREEN\n",
      "Support: 0.012575771283814348\n",
      "Confidence: 0.9114754098360655\n",
      "Lift: 52.88471236177444\n",
      "============== 2 =================\n",
      "REGENCY TEA PLATE ROSES->REGENCY TEA PLATE GREEN\n",
      "Support: 0.014430471365240206\n",
      "Confidence: 0.837270341207349\n",
      "Lift: 41.592580140965524\n",
      "============== 3 =================\n",
      "REGENCY TEA PLATE ROSES->REGENCY TEA PLATE PINK\n",
      "Support: 0.012168641997647698\n",
      "Confidence: 0.8819672131147541\n",
      "Lift: 43.81296002947136\n",
      "============== 4 =================\n",
      "SET/6 RED SPOTTY PAPER PLATES->SET/6 RED SPOTTY PAPER CUPS\n",
      "Support: 0.015832805573147563\n",
      "Confidence: 0.8177570093457944\n",
      "Lift: 34.23737963749646\n",
      "============== 5 =================\n",
      "WOODEN TREE CHRISTMAS SCANDINAVIAN->WOODEN STAR CHRISTMAS SCANDINAVIAN\n",
      "Support: 0.0127114810458699\n",
      "Confidence: 0.8313609467455622\n",
      "Lift: 35.89465837647929\n",
      "============== 6 =================\n",
      "ALARM CLOCK BAKELIKE RED->ALARM CLOCK BAKELIKE GREEN\n",
      "Support: 0.01017823215416629\n",
      "Confidence: 0.8122743682310469\n",
      "Lift: 17.084811783173667\n",
      "============== 7 =================\n",
      "RED RETROSPOT CHARLOTTE BAG->LUNCH BAG  BLACK SKULL.\n",
      "Support: 0.01013299556681444\n",
      "Confidence: 0.8296296296296296\n",
      "Lift: 17.736743319722045\n",
      "============== 8 =================\n",
      "RED RETROSPOT CHARLOTTE BAG->STRAWBERRY CHARLOTTE BAG\n",
      "Support: 0.014656654301999457\n",
      "Confidence: 0.8594164456233422\n",
      "Lift: 18.3735589428913\n",
      "============== 9 =================\n",
      "RED RETROSPOT CHARLOTTE BAG->WOODLAND CHARLOTTE BAG\n",
      "Support: 0.014611417714647607\n",
      "Confidence: 0.821882951653944\n",
      "Lift: 17.571126237197376\n",
      "============== 10 =================\n"
     ]
    }
   ],
   "source": [
    "for i in  range(10):\n",
    "  item = results[i] \n",
    "  pair=item[0]\n",
    "  #print(pair)\n",
    "  items=[x for x in pair]\n",
    "  #print (items)\n",
    "  print(items[0]+'->'+items[1])\n",
    "  # second index of the inner list\n",
    "  print(\"Support: \" + str(item[1]))\n",
    "  # third index of the list located at 0th\n",
    "  # of the third index of the inner list\n",
    "\n",
    "  print(\"Confidence: \" + str(item[2][0][2]))\n",
    "  print(\"Lift: \" + str(item[2][0][3]))\n",
    "  print(\"==============\",i+1,\"=================\")"
   ]
  },
  {
   "cell_type": "markdown",
   "metadata": {},
   "source": [
    "#### Get all rules with 100% confidence"
   ]
  },
  {
   "cell_type": "code",
   "execution_count": 16,
   "metadata": {},
   "outputs": [],
   "source": [
    "rules = apriori( transactions ,  min_confidence = 1)"
   ]
  },
  {
   "cell_type": "code",
   "execution_count": 17,
   "metadata": {},
   "outputs": [],
   "source": [
    "results = list(rules)"
   ]
  },
  {
   "cell_type": "code",
   "execution_count": 18,
   "metadata": {},
   "outputs": [
    {
     "name": "stdout",
     "output_type": "stream",
     "text": [
      "There are 0 RULES derived.\n"
     ]
    }
   ],
   "source": [
    "print(\"There are {} RULES derived.\".format(len(results)))"
   ]
  },
  {
   "cell_type": "markdown",
   "metadata": {},
   "source": [
    "#### Get rules with max length of 3"
   ]
  },
  {
   "cell_type": "code",
   "execution_count": 19,
   "metadata": {},
   "outputs": [],
   "source": [
    "rules = apriori( transactions , max_length = 3)"
   ]
  },
  {
   "cell_type": "code",
   "execution_count": 20,
   "metadata": {},
   "outputs": [
    {
     "name": "stdout",
     "output_type": "stream",
     "text": [
      "There are 1 RULES derived.\n"
     ]
    }
   ],
   "source": [
    "results = list(rules)\n",
    "print(\"There are {} RULES derived.\".format(len(results)))"
   ]
  },
  {
   "cell_type": "code",
   "execution_count": 21,
   "metadata": {},
   "outputs": [],
   "source": [
    "def inspect(results):\n",
    "    lhs = [tuple(result[2][0][0])[0] for result in results]\n",
    "    rhs = [tuple(result[2][0][1])[0] for result in results]\n",
    "    supports = [result[1] for result in results]\n",
    "    confidences = [result[2][0][2] for result in results]\n",
    "    lifts = [result[2][0][3] for result in results]\n",
    "    return list(zip(lhs, rhs, supports, confidences, lifts))"
   ]
  },
  {
   "cell_type": "code",
   "execution_count": 22,
   "metadata": {},
   "outputs": [
    {
     "data": {
      "text/plain": [
       "[RelationRecord(items=frozenset({'PINK REGENCY TEACUP AND SAUCER', 'GREEN REGENCY TEACUP AND SAUCER'}), support=0.02863475979372116, ordered_statistics=[OrderedStatistic(items_base=frozenset({'PINK REGENCY TEACUP AND SAUCER'}), items_add=frozenset({'GREEN REGENCY TEACUP AND SAUCER'}), confidence=0.8263707571801566, lift=17.99778518051679)]),\n",
       " RelationRecord(items=frozenset({'REGENCY TEA PLATE PINK', 'REGENCY TEA PLATE GREEN'}), support=0.012575771283814348, ordered_statistics=[OrderedStatistic(items_base=frozenset({'REGENCY TEA PLATE PINK'}), items_add=frozenset({'REGENCY TEA PLATE GREEN'}), confidence=0.9114754098360655, lift=52.88471236177444)]),\n",
       " RelationRecord(items=frozenset({'REGENCY TEA PLATE ROSES', 'REGENCY TEA PLATE GREEN'}), support=0.014430471365240206, ordered_statistics=[OrderedStatistic(items_base=frozenset({'REGENCY TEA PLATE GREEN'}), items_add=frozenset({'REGENCY TEA PLATE ROSES'}), confidence=0.837270341207349, lift=41.592580140965524)]),\n",
       " RelationRecord(items=frozenset({'REGENCY TEA PLATE ROSES', 'REGENCY TEA PLATE PINK'}), support=0.012168641997647698, ordered_statistics=[OrderedStatistic(items_base=frozenset({'REGENCY TEA PLATE PINK'}), items_add=frozenset({'REGENCY TEA PLATE ROSES'}), confidence=0.8819672131147541, lift=43.81296002947136)]),\n",
       " RelationRecord(items=frozenset({'SET/6 RED SPOTTY PAPER PLATES', 'SET/6 RED SPOTTY PAPER CUPS'}), support=0.015832805573147563, ordered_statistics=[OrderedStatistic(items_base=frozenset({'SET/6 RED SPOTTY PAPER CUPS'}), items_add=frozenset({'SET/6 RED SPOTTY PAPER PLATES'}), confidence=0.8177570093457944, lift=34.23737963749646)]),\n",
       " RelationRecord(items=frozenset({'WOODEN TREE CHRISTMAS SCANDINAVIAN', 'WOODEN STAR CHRISTMAS SCANDINAVIAN'}), support=0.0127114810458699, ordered_statistics=[OrderedStatistic(items_base=frozenset({'WOODEN TREE CHRISTMAS SCANDINAVIAN'}), items_add=frozenset({'WOODEN STAR CHRISTMAS SCANDINAVIAN'}), confidence=0.8313609467455622, lift=35.89465837647929)]),\n",
       " RelationRecord(items=frozenset({'ALARM CLOCK BAKELIKE RED', 'ALARM CLOCK BAKELIKE GREEN', 'ALARM CLOCK BAKELIKE CHOCOLATE'}), support=0.01017823215416629, ordered_statistics=[OrderedStatistic(items_base=frozenset({'ALARM CLOCK BAKELIKE GREEN', 'ALARM CLOCK BAKELIKE CHOCOLATE'}), items_add=frozenset({'ALARM CLOCK BAKELIKE RED'}), confidence=0.8122743682310469, lift=17.084811783173667)]),\n",
       " RelationRecord(items=frozenset({'RED RETROSPOT CHARLOTTE BAG', 'LUNCH BAG  BLACK SKULL.', 'CHARLOTTE BAG PINK POLKADOT'}), support=0.01013299556681444, ordered_statistics=[OrderedStatistic(items_base=frozenset({'LUNCH BAG  BLACK SKULL.', 'CHARLOTTE BAG PINK POLKADOT'}), items_add=frozenset({'RED RETROSPOT CHARLOTTE BAG'}), confidence=0.8296296296296296, lift=17.736743319722045)]),\n",
       " RelationRecord(items=frozenset({'RED RETROSPOT CHARLOTTE BAG', 'STRAWBERRY CHARLOTTE BAG', 'CHARLOTTE BAG PINK POLKADOT'}), support=0.014656654301999457, ordered_statistics=[OrderedStatistic(items_base=frozenset({'STRAWBERRY CHARLOTTE BAG', 'CHARLOTTE BAG PINK POLKADOT'}), items_add=frozenset({'RED RETROSPOT CHARLOTTE BAG'}), confidence=0.8594164456233422, lift=18.3735589428913)]),\n",
       " RelationRecord(items=frozenset({'RED RETROSPOT CHARLOTTE BAG', 'WOODLAND CHARLOTTE BAG', 'CHARLOTTE BAG PINK POLKADOT'}), support=0.014611417714647607, ordered_statistics=[OrderedStatistic(items_base=frozenset({'WOODLAND CHARLOTTE BAG', 'CHARLOTTE BAG PINK POLKADOT'}), items_add=frozenset({'RED RETROSPOT CHARLOTTE BAG'}), confidence=0.821882951653944, lift=17.571126237197376)])]"
      ]
     },
     "execution_count": 22,
     "metadata": {},
     "output_type": "execute_result"
    }
   ],
   "source": [
    "from apyori import apriori\n",
    "rules = apriori( transactions , min_support = 0.01, min_confidence = 0.8, max_length = 10)\n",
    "results = list(rules)\n",
    "results[:10]"
   ]
  },
  {
   "cell_type": "markdown",
   "metadata": {},
   "source": [
    "#### Find what customers buy before buying 'METAL'"
   ]
  },
  {
   "cell_type": "code",
   "execution_count": 23,
   "metadata": {},
   "outputs": [],
   "source": [
    "resultsinDataFrame = pd.DataFrame(inspect(results), columns =['Left Hand Side', 'Right Hand Side', 'Support', 'Confidence','Lift'])\n",
    "\"\"\"Displaying the results non sorted\"\"\"\n",
    "a = resultsinDataFrame[resultsinDataFrame['Right Hand Side']=='METAL']"
   ]
  },
  {
   "cell_type": "markdown",
   "metadata": {},
   "source": [
    "#### Find the answer to the question Customers who bought METAL also bought"
   ]
  },
  {
   "cell_type": "code",
   "execution_count": 24,
   "metadata": {},
   "outputs": [
    {
     "data": {
      "text/html": [
       "<div>\n",
       "<style scoped>\n",
       "    .dataframe tbody tr th:only-of-type {\n",
       "        vertical-align: middle;\n",
       "    }\n",
       "\n",
       "    .dataframe tbody tr th {\n",
       "        vertical-align: top;\n",
       "    }\n",
       "\n",
       "    .dataframe thead th {\n",
       "        text-align: right;\n",
       "    }\n",
       "</style>\n",
       "<table border=\"1\" class=\"dataframe\">\n",
       "  <thead>\n",
       "    <tr style=\"text-align: right;\">\n",
       "      <th></th>\n",
       "      <th>Left Hand Side</th>\n",
       "      <th>Right Hand Side</th>\n",
       "      <th>Support</th>\n",
       "      <th>Confidence</th>\n",
       "      <th>Lift</th>\n",
       "    </tr>\n",
       "  </thead>\n",
       "  <tbody>\n",
       "  </tbody>\n",
       "</table>\n",
       "</div>"
      ],
      "text/plain": [
       "Empty DataFrame\n",
       "Columns: [Left Hand Side, Right Hand Side, Support, Confidence, Lift]\n",
       "Index: []"
      ]
     },
     "execution_count": 24,
     "metadata": {},
     "output_type": "execute_result"
    }
   ],
   "source": [
    "resultsinDataFrame[resultsinDataFrame['Left Hand Side'].str.contains('METAL')]"
   ]
  },
  {
   "cell_type": "code",
   "execution_count": 25,
   "metadata": {},
   "outputs": [
    {
     "data": {
      "text/html": [
       "<div>\n",
       "<style scoped>\n",
       "    .dataframe tbody tr th:only-of-type {\n",
       "        vertical-align: middle;\n",
       "    }\n",
       "\n",
       "    .dataframe tbody tr th {\n",
       "        vertical-align: top;\n",
       "    }\n",
       "\n",
       "    .dataframe thead th {\n",
       "        text-align: right;\n",
       "    }\n",
       "</style>\n",
       "<table border=\"1\" class=\"dataframe\">\n",
       "  <thead>\n",
       "    <tr style=\"text-align: right;\">\n",
       "      <th></th>\n",
       "      <th>Left Hand Side</th>\n",
       "      <th>Right Hand Side</th>\n",
       "      <th>Support</th>\n",
       "      <th>Confidence</th>\n",
       "      <th>Lift</th>\n",
       "    </tr>\n",
       "  </thead>\n",
       "  <tbody>\n",
       "    <tr>\n",
       "      <th>0</th>\n",
       "      <td>PINK REGENCY TEACUP AND SAUCER</td>\n",
       "      <td>GREEN REGENCY TEACUP AND SAUCER</td>\n",
       "      <td>0.028635</td>\n",
       "      <td>0.826371</td>\n",
       "      <td>17.997785</td>\n",
       "    </tr>\n",
       "    <tr>\n",
       "      <th>1</th>\n",
       "      <td>REGENCY TEA PLATE PINK</td>\n",
       "      <td>REGENCY TEA PLATE GREEN</td>\n",
       "      <td>0.012576</td>\n",
       "      <td>0.911475</td>\n",
       "      <td>52.884712</td>\n",
       "    </tr>\n",
       "    <tr>\n",
       "      <th>2</th>\n",
       "      <td>REGENCY TEA PLATE GREEN</td>\n",
       "      <td>REGENCY TEA PLATE ROSES</td>\n",
       "      <td>0.014430</td>\n",
       "      <td>0.837270</td>\n",
       "      <td>41.592580</td>\n",
       "    </tr>\n",
       "    <tr>\n",
       "      <th>3</th>\n",
       "      <td>REGENCY TEA PLATE PINK</td>\n",
       "      <td>REGENCY TEA PLATE ROSES</td>\n",
       "      <td>0.012169</td>\n",
       "      <td>0.881967</td>\n",
       "      <td>43.812960</td>\n",
       "    </tr>\n",
       "    <tr>\n",
       "      <th>4</th>\n",
       "      <td>SET/6 RED SPOTTY PAPER CUPS</td>\n",
       "      <td>SET/6 RED SPOTTY PAPER PLATES</td>\n",
       "      <td>0.015833</td>\n",
       "      <td>0.817757</td>\n",
       "      <td>34.237380</td>\n",
       "    </tr>\n",
       "    <tr>\n",
       "      <th>5</th>\n",
       "      <td>WOODEN TREE CHRISTMAS SCANDINAVIAN</td>\n",
       "      <td>WOODEN STAR CHRISTMAS SCANDINAVIAN</td>\n",
       "      <td>0.012711</td>\n",
       "      <td>0.831361</td>\n",
       "      <td>35.894658</td>\n",
       "    </tr>\n",
       "    <tr>\n",
       "      <th>6</th>\n",
       "      <td>ALARM CLOCK BAKELIKE GREEN</td>\n",
       "      <td>ALARM CLOCK BAKELIKE RED</td>\n",
       "      <td>0.010178</td>\n",
       "      <td>0.812274</td>\n",
       "      <td>17.084812</td>\n",
       "    </tr>\n",
       "    <tr>\n",
       "      <th>7</th>\n",
       "      <td>LUNCH BAG  BLACK SKULL.</td>\n",
       "      <td>RED RETROSPOT CHARLOTTE BAG</td>\n",
       "      <td>0.010133</td>\n",
       "      <td>0.829630</td>\n",
       "      <td>17.736743</td>\n",
       "    </tr>\n",
       "    <tr>\n",
       "      <th>8</th>\n",
       "      <td>STRAWBERRY CHARLOTTE BAG</td>\n",
       "      <td>RED RETROSPOT CHARLOTTE BAG</td>\n",
       "      <td>0.014657</td>\n",
       "      <td>0.859416</td>\n",
       "      <td>18.373559</td>\n",
       "    </tr>\n",
       "    <tr>\n",
       "      <th>9</th>\n",
       "      <td>WOODLAND CHARLOTTE BAG</td>\n",
       "      <td>RED RETROSPOT CHARLOTTE BAG</td>\n",
       "      <td>0.014611</td>\n",
       "      <td>0.821883</td>\n",
       "      <td>17.571126</td>\n",
       "    </tr>\n",
       "    <tr>\n",
       "      <th>10</th>\n",
       "      <td>CHARLOTTE BAG SUKI DESIGN</td>\n",
       "      <td>RED RETROSPOT CHARLOTTE BAG</td>\n",
       "      <td>0.015019</td>\n",
       "      <td>0.803874</td>\n",
       "      <td>17.186113</td>\n",
       "    </tr>\n",
       "    <tr>\n",
       "      <th>11</th>\n",
       "      <td>GREEN REGENCY TEACUP AND SAUCER</td>\n",
       "      <td>DOTCOM POSTAGE</td>\n",
       "      <td>0.010269</td>\n",
       "      <td>0.840741</td>\n",
       "      <td>26.250586</td>\n",
       "    </tr>\n",
       "    <tr>\n",
       "      <th>12</th>\n",
       "      <td>DOTCOM POSTAGE</td>\n",
       "      <td>GREEN REGENCY TEACUP AND SAUCER</td>\n",
       "      <td>0.010540</td>\n",
       "      <td>0.811847</td>\n",
       "      <td>17.681461</td>\n",
       "    </tr>\n",
       "    <tr>\n",
       "      <th>13</th>\n",
       "      <td>DOTCOM POSTAGE</td>\n",
       "      <td>JUMBO BAG RED RETROSPOT</td>\n",
       "      <td>0.012531</td>\n",
       "      <td>0.802899</td>\n",
       "      <td>8.484166</td>\n",
       "    </tr>\n",
       "    <tr>\n",
       "      <th>14</th>\n",
       "      <td>SUKI  SHOULDER BAG</td>\n",
       "      <td>DOTCOM POSTAGE</td>\n",
       "      <td>0.011219</td>\n",
       "      <td>0.882562</td>\n",
       "      <td>27.556387</td>\n",
       "    </tr>\n",
       "    <tr>\n",
       "      <th>15</th>\n",
       "      <td>PINK REGENCY TEACUP AND SAUCER</td>\n",
       "      <td>GREEN REGENCY TEACUP AND SAUCER</td>\n",
       "      <td>0.015516</td>\n",
       "      <td>0.875000</td>\n",
       "      <td>19.056897</td>\n",
       "    </tr>\n",
       "    <tr>\n",
       "      <th>16</th>\n",
       "      <td>PINK REGENCY TEACUP AND SAUCER</td>\n",
       "      <td>ROSES REGENCY TEACUP AND SAUCER</td>\n",
       "      <td>0.024518</td>\n",
       "      <td>0.856240</td>\n",
       "      <td>17.756139</td>\n",
       "    </tr>\n",
       "    <tr>\n",
       "      <th>17</th>\n",
       "      <td>REGENCY CAKESTAND 3 TIER</td>\n",
       "      <td>ROSES REGENCY TEACUP AND SAUCER</td>\n",
       "      <td>0.018457</td>\n",
       "      <td>0.801572</td>\n",
       "      <td>16.622462</td>\n",
       "    </tr>\n",
       "    <tr>\n",
       "      <th>18</th>\n",
       "      <td>JUMBO BAG PINK POLKADOT</td>\n",
       "      <td>JUMBO BAG RED RETROSPOT</td>\n",
       "      <td>0.012123</td>\n",
       "      <td>0.842767</td>\n",
       "      <td>8.905456</td>\n",
       "    </tr>\n",
       "    <tr>\n",
       "      <th>19</th>\n",
       "      <td>JUMBO BAG PINK POLKADOT</td>\n",
       "      <td>JUMBO BAG RED RETROSPOT</td>\n",
       "      <td>0.012621</td>\n",
       "      <td>0.801724</td>\n",
       "      <td>8.471756</td>\n",
       "    </tr>\n",
       "    <tr>\n",
       "      <th>20</th>\n",
       "      <td>JUMBO BAG PINK POLKADOT</td>\n",
       "      <td>JUMBO BAG RED RETROSPOT</td>\n",
       "      <td>0.010540</td>\n",
       "      <td>0.826241</td>\n",
       "      <td>8.730825</td>\n",
       "    </tr>\n",
       "    <tr>\n",
       "      <th>21</th>\n",
       "      <td>JUMBO BAG PINK POLKADOT</td>\n",
       "      <td>JUMBO BAG RED RETROSPOT</td>\n",
       "      <td>0.017099</td>\n",
       "      <td>0.807692</td>\n",
       "      <td>8.534821</td>\n",
       "    </tr>\n",
       "    <tr>\n",
       "      <th>22</th>\n",
       "      <td>JUMBO BAG PINK POLKADOT</td>\n",
       "      <td>JUMBO BAG RED RETROSPOT</td>\n",
       "      <td>0.010992</td>\n",
       "      <td>0.812709</td>\n",
       "      <td>8.587833</td>\n",
       "    </tr>\n",
       "    <tr>\n",
       "      <th>23</th>\n",
       "      <td>JUMBO STORAGE BAG SUKI</td>\n",
       "      <td>JUMBO BAG RED RETROSPOT</td>\n",
       "      <td>0.010992</td>\n",
       "      <td>0.804636</td>\n",
       "      <td>8.502523</td>\n",
       "    </tr>\n",
       "    <tr>\n",
       "      <th>24</th>\n",
       "      <td>LUNCH BAG  BLACK SKULL.</td>\n",
       "      <td>RED RETROSPOT CHARLOTTE BAG</td>\n",
       "      <td>0.010178</td>\n",
       "      <td>0.800712</td>\n",
       "      <td>17.118505</td>\n",
       "    </tr>\n",
       "    <tr>\n",
       "      <th>25</th>\n",
       "      <td>PINK REGENCY TEACUP AND SAUCER</td>\n",
       "      <td>ROSES REGENCY TEACUP AND SAUCER</td>\n",
       "      <td>0.014973</td>\n",
       "      <td>0.844388</td>\n",
       "      <td>17.510352</td>\n",
       "    </tr>\n",
       "    <tr>\n",
       "      <th>26</th>\n",
       "      <td>POPPY'S PLAYHOUSE LIVINGROOM</td>\n",
       "      <td>POPPY'S PLAYHOUSE KITCHEN</td>\n",
       "      <td>0.010133</td>\n",
       "      <td>0.861538</td>\n",
       "      <td>43.581623</td>\n",
       "    </tr>\n",
       "    <tr>\n",
       "      <th>27</th>\n",
       "      <td>WOODLAND CHARLOTTE BAG</td>\n",
       "      <td>RED RETROSPOT CHARLOTTE BAG</td>\n",
       "      <td>0.014792</td>\n",
       "      <td>0.805419</td>\n",
       "      <td>17.219136</td>\n",
       "    </tr>\n",
       "    <tr>\n",
       "      <th>28</th>\n",
       "      <td>REGENCY TEA PLATE PINK</td>\n",
       "      <td>REGENCY TEA PLATE ROSES</td>\n",
       "      <td>0.011535</td>\n",
       "      <td>0.836066</td>\n",
       "      <td>57.937510</td>\n",
       "    </tr>\n",
       "    <tr>\n",
       "      <th>29</th>\n",
       "      <td>SET/6 RED SPOTTY PAPER CUPS</td>\n",
       "      <td>SET/6 RED SPOTTY PAPER PLATES</td>\n",
       "      <td>0.011988</td>\n",
       "      <td>0.895270</td>\n",
       "      <td>37.482660</td>\n",
       "    </tr>\n",
       "    <tr>\n",
       "      <th>30</th>\n",
       "      <td>WOODEN TREE CHRISTMAS SCANDINAVIAN</td>\n",
       "      <td>WOODEN STAR CHRISTMAS SCANDINAVIAN</td>\n",
       "      <td>0.010450</td>\n",
       "      <td>0.927711</td>\n",
       "      <td>40.054640</td>\n",
       "    </tr>\n",
       "    <tr>\n",
       "      <th>31</th>\n",
       "      <td>STRAWBERRY CHARLOTTE BAG</td>\n",
       "      <td>RED RETROSPOT CHARLOTTE BAG</td>\n",
       "      <td>0.010992</td>\n",
       "      <td>0.903346</td>\n",
       "      <td>19.312728</td>\n",
       "    </tr>\n",
       "    <tr>\n",
       "      <th>32</th>\n",
       "      <td>CHARLOTTE BAG SUKI DESIGN</td>\n",
       "      <td>RED RETROSPOT CHARLOTTE BAG</td>\n",
       "      <td>0.011264</td>\n",
       "      <td>0.858621</td>\n",
       "      <td>18.356546</td>\n",
       "    </tr>\n",
       "    <tr>\n",
       "      <th>33</th>\n",
       "      <td>STRAWBERRY CHARLOTTE BAG</td>\n",
       "      <td>RED RETROSPOT CHARLOTTE BAG</td>\n",
       "      <td>0.010857</td>\n",
       "      <td>0.919540</td>\n",
       "      <td>19.658952</td>\n",
       "    </tr>\n",
       "    <tr>\n",
       "      <th>34</th>\n",
       "      <td>CHARLOTTE BAG SUKI DESIGN</td>\n",
       "      <td>RED RETROSPOT CHARLOTTE BAG</td>\n",
       "      <td>0.011671</td>\n",
       "      <td>0.857143</td>\n",
       "      <td>18.324952</td>\n",
       "    </tr>\n",
       "    <tr>\n",
       "      <th>35</th>\n",
       "      <td>PINK REGENCY TEACUP AND SAUCER</td>\n",
       "      <td>ROSES REGENCY TEACUP AND SAUCER</td>\n",
       "      <td>0.013616</td>\n",
       "      <td>0.877551</td>\n",
       "      <td>18.198070</td>\n",
       "    </tr>\n",
       "    <tr>\n",
       "      <th>36</th>\n",
       "      <td>JUMBO STORAGE BAG SUKI</td>\n",
       "      <td>JUMBO BAG RED RETROSPOT</td>\n",
       "      <td>0.010585</td>\n",
       "      <td>0.841727</td>\n",
       "      <td>8.894459</td>\n",
       "    </tr>\n",
       "    <tr>\n",
       "      <th>37</th>\n",
       "      <td>JUMBO STORAGE BAG SUKI</td>\n",
       "      <td>JUMBO BAG RED RETROSPOT</td>\n",
       "      <td>0.012123</td>\n",
       "      <td>0.867314</td>\n",
       "      <td>9.164838</td>\n",
       "    </tr>\n",
       "    <tr>\n",
       "      <th>38</th>\n",
       "      <td>JUMBO STORAGE BAG SUKI</td>\n",
       "      <td>JUMBO BAG RED RETROSPOT</td>\n",
       "      <td>0.010043</td>\n",
       "      <td>0.807273</td>\n",
       "      <td>8.530388</td>\n",
       "    </tr>\n",
       "  </tbody>\n",
       "</table>\n",
       "</div>"
      ],
      "text/plain": [
       "                        Left Hand Side                     Right Hand Side  \\\n",
       "0       PINK REGENCY TEACUP AND SAUCER     GREEN REGENCY TEACUP AND SAUCER   \n",
       "1               REGENCY TEA PLATE PINK             REGENCY TEA PLATE GREEN   \n",
       "2              REGENCY TEA PLATE GREEN             REGENCY TEA PLATE ROSES   \n",
       "3               REGENCY TEA PLATE PINK             REGENCY TEA PLATE ROSES   \n",
       "4          SET/6 RED SPOTTY PAPER CUPS       SET/6 RED SPOTTY PAPER PLATES   \n",
       "5   WOODEN TREE CHRISTMAS SCANDINAVIAN  WOODEN STAR CHRISTMAS SCANDINAVIAN   \n",
       "6           ALARM CLOCK BAKELIKE GREEN            ALARM CLOCK BAKELIKE RED   \n",
       "7              LUNCH BAG  BLACK SKULL.         RED RETROSPOT CHARLOTTE BAG   \n",
       "8             STRAWBERRY CHARLOTTE BAG         RED RETROSPOT CHARLOTTE BAG   \n",
       "9               WOODLAND CHARLOTTE BAG         RED RETROSPOT CHARLOTTE BAG   \n",
       "10           CHARLOTTE BAG SUKI DESIGN         RED RETROSPOT CHARLOTTE BAG   \n",
       "11     GREEN REGENCY TEACUP AND SAUCER                      DOTCOM POSTAGE   \n",
       "12                      DOTCOM POSTAGE     GREEN REGENCY TEACUP AND SAUCER   \n",
       "13                      DOTCOM POSTAGE             JUMBO BAG RED RETROSPOT   \n",
       "14                  SUKI  SHOULDER BAG                      DOTCOM POSTAGE   \n",
       "15      PINK REGENCY TEACUP AND SAUCER     GREEN REGENCY TEACUP AND SAUCER   \n",
       "16      PINK REGENCY TEACUP AND SAUCER     ROSES REGENCY TEACUP AND SAUCER   \n",
       "17            REGENCY CAKESTAND 3 TIER     ROSES REGENCY TEACUP AND SAUCER   \n",
       "18             JUMBO BAG PINK POLKADOT             JUMBO BAG RED RETROSPOT   \n",
       "19             JUMBO BAG PINK POLKADOT             JUMBO BAG RED RETROSPOT   \n",
       "20             JUMBO BAG PINK POLKADOT             JUMBO BAG RED RETROSPOT   \n",
       "21             JUMBO BAG PINK POLKADOT             JUMBO BAG RED RETROSPOT   \n",
       "22             JUMBO BAG PINK POLKADOT             JUMBO BAG RED RETROSPOT   \n",
       "23              JUMBO STORAGE BAG SUKI             JUMBO BAG RED RETROSPOT   \n",
       "24             LUNCH BAG  BLACK SKULL.         RED RETROSPOT CHARLOTTE BAG   \n",
       "25      PINK REGENCY TEACUP AND SAUCER     ROSES REGENCY TEACUP AND SAUCER   \n",
       "26        POPPY'S PLAYHOUSE LIVINGROOM           POPPY'S PLAYHOUSE KITCHEN   \n",
       "27              WOODLAND CHARLOTTE BAG         RED RETROSPOT CHARLOTTE BAG   \n",
       "28              REGENCY TEA PLATE PINK             REGENCY TEA PLATE ROSES   \n",
       "29         SET/6 RED SPOTTY PAPER CUPS       SET/6 RED SPOTTY PAPER PLATES   \n",
       "30  WOODEN TREE CHRISTMAS SCANDINAVIAN  WOODEN STAR CHRISTMAS SCANDINAVIAN   \n",
       "31            STRAWBERRY CHARLOTTE BAG         RED RETROSPOT CHARLOTTE BAG   \n",
       "32           CHARLOTTE BAG SUKI DESIGN         RED RETROSPOT CHARLOTTE BAG   \n",
       "33            STRAWBERRY CHARLOTTE BAG         RED RETROSPOT CHARLOTTE BAG   \n",
       "34           CHARLOTTE BAG SUKI DESIGN         RED RETROSPOT CHARLOTTE BAG   \n",
       "35      PINK REGENCY TEACUP AND SAUCER     ROSES REGENCY TEACUP AND SAUCER   \n",
       "36              JUMBO STORAGE BAG SUKI             JUMBO BAG RED RETROSPOT   \n",
       "37              JUMBO STORAGE BAG SUKI             JUMBO BAG RED RETROSPOT   \n",
       "38              JUMBO STORAGE BAG SUKI             JUMBO BAG RED RETROSPOT   \n",
       "\n",
       "     Support  Confidence       Lift  \n",
       "0   0.028635    0.826371  17.997785  \n",
       "1   0.012576    0.911475  52.884712  \n",
       "2   0.014430    0.837270  41.592580  \n",
       "3   0.012169    0.881967  43.812960  \n",
       "4   0.015833    0.817757  34.237380  \n",
       "5   0.012711    0.831361  35.894658  \n",
       "6   0.010178    0.812274  17.084812  \n",
       "7   0.010133    0.829630  17.736743  \n",
       "8   0.014657    0.859416  18.373559  \n",
       "9   0.014611    0.821883  17.571126  \n",
       "10  0.015019    0.803874  17.186113  \n",
       "11  0.010269    0.840741  26.250586  \n",
       "12  0.010540    0.811847  17.681461  \n",
       "13  0.012531    0.802899   8.484166  \n",
       "14  0.011219    0.882562  27.556387  \n",
       "15  0.015516    0.875000  19.056897  \n",
       "16  0.024518    0.856240  17.756139  \n",
       "17  0.018457    0.801572  16.622462  \n",
       "18  0.012123    0.842767   8.905456  \n",
       "19  0.012621    0.801724   8.471756  \n",
       "20  0.010540    0.826241   8.730825  \n",
       "21  0.017099    0.807692   8.534821  \n",
       "22  0.010992    0.812709   8.587833  \n",
       "23  0.010992    0.804636   8.502523  \n",
       "24  0.010178    0.800712  17.118505  \n",
       "25  0.014973    0.844388  17.510352  \n",
       "26  0.010133    0.861538  43.581623  \n",
       "27  0.014792    0.805419  17.219136  \n",
       "28  0.011535    0.836066  57.937510  \n",
       "29  0.011988    0.895270  37.482660  \n",
       "30  0.010450    0.927711  40.054640  \n",
       "31  0.010992    0.903346  19.312728  \n",
       "32  0.011264    0.858621  18.356546  \n",
       "33  0.010857    0.919540  19.658952  \n",
       "34  0.011671    0.857143  18.324952  \n",
       "35  0.013616    0.877551  18.198070  \n",
       "36  0.010585    0.841727   8.894459  \n",
       "37  0.012123    0.867314   9.164838  \n",
       "38  0.010043    0.807273   8.530388  "
      ]
     },
     "execution_count": 25,
     "metadata": {},
     "output_type": "execute_result"
    }
   ],
   "source": [
    "resultsinDataFrame"
   ]
  },
  {
   "cell_type": "code",
   "execution_count": null,
   "metadata": {},
   "outputs": [],
   "source": []
  }
 ],
 "metadata": {
  "kernelspec": {
   "display_name": "Python 3",
   "language": "python",
   "name": "python3"
  },
  "language_info": {
   "codemirror_mode": {
    "name": "ipython",
    "version": 3
   },
   "file_extension": ".py",
   "mimetype": "text/x-python",
   "name": "python",
   "nbconvert_exporter": "python",
   "pygments_lexer": "ipython3",
   "version": "3.6.9"
  }
 },
 "nbformat": 4,
 "nbformat_minor": 4
}
