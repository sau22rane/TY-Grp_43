{
 "cells": [
  {
   "cell_type": "code",
   "execution_count": 1,
   "metadata": {},
   "outputs": [],
   "source": [
    "import pandas as pd\n",
    "import numpy as np\n",
    "import math"
   ]
  },
  {
   "cell_type": "code",
   "execution_count": 2,
   "metadata": {},
   "outputs": [
    {
     "data": {
      "text/html": [
       "<div>\n",
       "<style scoped>\n",
       "    .dataframe tbody tr th:only-of-type {\n",
       "        vertical-align: middle;\n",
       "    }\n",
       "\n",
       "    .dataframe tbody tr th {\n",
       "        vertical-align: top;\n",
       "    }\n",
       "\n",
       "    .dataframe thead th {\n",
       "        text-align: right;\n",
       "    }\n",
       "</style>\n",
       "<table border=\"1\" class=\"dataframe\">\n",
       "  <thead>\n",
       "    <tr style=\"text-align: right;\">\n",
       "      <th></th>\n",
       "      <th>InvoiceNo</th>\n",
       "      <th>StockCode</th>\n",
       "      <th>Description</th>\n",
       "      <th>Quantity</th>\n",
       "      <th>InvoiceDate</th>\n",
       "      <th>UnitPrice</th>\n",
       "      <th>CustomerID</th>\n",
       "      <th>Country</th>\n",
       "    </tr>\n",
       "  </thead>\n",
       "  <tbody>\n",
       "    <tr>\n",
       "      <th>0</th>\n",
       "      <td>536365</td>\n",
       "      <td>85123A</td>\n",
       "      <td>WHITE HANGING HEART T-LIGHT HOLDER</td>\n",
       "      <td>6</td>\n",
       "      <td>12/1/2010 8:26</td>\n",
       "      <td>2.55</td>\n",
       "      <td>17850.0</td>\n",
       "      <td>United Kingdom</td>\n",
       "    </tr>\n",
       "    <tr>\n",
       "      <th>1</th>\n",
       "      <td>536365</td>\n",
       "      <td>71053</td>\n",
       "      <td>WHITE METAL LANTERN</td>\n",
       "      <td>6</td>\n",
       "      <td>12/1/2010 8:26</td>\n",
       "      <td>3.39</td>\n",
       "      <td>17850.0</td>\n",
       "      <td>United Kingdom</td>\n",
       "    </tr>\n",
       "    <tr>\n",
       "      <th>2</th>\n",
       "      <td>536365</td>\n",
       "      <td>84406B</td>\n",
       "      <td>CREAM CUPID HEARTS COAT HANGER</td>\n",
       "      <td>8</td>\n",
       "      <td>12/1/2010 8:26</td>\n",
       "      <td>2.75</td>\n",
       "      <td>17850.0</td>\n",
       "      <td>United Kingdom</td>\n",
       "    </tr>\n",
       "    <tr>\n",
       "      <th>3</th>\n",
       "      <td>536365</td>\n",
       "      <td>84029G</td>\n",
       "      <td>KNITTED UNION FLAG HOT WATER BOTTLE</td>\n",
       "      <td>6</td>\n",
       "      <td>12/1/2010 8:26</td>\n",
       "      <td>3.39</td>\n",
       "      <td>17850.0</td>\n",
       "      <td>United Kingdom</td>\n",
       "    </tr>\n",
       "    <tr>\n",
       "      <th>4</th>\n",
       "      <td>536365</td>\n",
       "      <td>84029E</td>\n",
       "      <td>RED WOOLLY HOTTIE WHITE HEART.</td>\n",
       "      <td>6</td>\n",
       "      <td>12/1/2010 8:26</td>\n",
       "      <td>3.39</td>\n",
       "      <td>17850.0</td>\n",
       "      <td>United Kingdom</td>\n",
       "    </tr>\n",
       "  </tbody>\n",
       "</table>\n",
       "</div>"
      ],
      "text/plain": [
       "  InvoiceNo StockCode                          Description  Quantity  \\\n",
       "0    536365    85123A   WHITE HANGING HEART T-LIGHT HOLDER         6   \n",
       "1    536365     71053                  WHITE METAL LANTERN         6   \n",
       "2    536365    84406B       CREAM CUPID HEARTS COAT HANGER         8   \n",
       "3    536365    84029G  KNITTED UNION FLAG HOT WATER BOTTLE         6   \n",
       "4    536365    84029E       RED WOOLLY HOTTIE WHITE HEART.         6   \n",
       "\n",
       "      InvoiceDate  UnitPrice  CustomerID         Country  \n",
       "0  12/1/2010 8:26       2.55     17850.0  United Kingdom  \n",
       "1  12/1/2010 8:26       3.39     17850.0  United Kingdom  \n",
       "2  12/1/2010 8:26       2.75     17850.0  United Kingdom  \n",
       "3  12/1/2010 8:26       3.39     17850.0  United Kingdom  \n",
       "4  12/1/2010 8:26       3.39     17850.0  United Kingdom  "
      ]
     },
     "execution_count": 2,
     "metadata": {},
     "output_type": "execute_result"
    }
   ],
   "source": [
    "df = pd.read_csv(\"OnlineRetail.csv\")\n",
    "df.head()"
   ]
  },
  {
   "cell_type": "code",
   "execution_count": 3,
   "metadata": {},
   "outputs": [
    {
     "data": {
      "text/plain": [
       "InvoiceNo       object\n",
       "StockCode       object\n",
       "Description     object\n",
       "Quantity         int64\n",
       "InvoiceDate     object\n",
       "UnitPrice      float64\n",
       "CustomerID     float64\n",
       "Country         object\n",
       "dtype: object"
      ]
     },
     "execution_count": 3,
     "metadata": {},
     "output_type": "execute_result"
    }
   ],
   "source": [
    "df.dtypes"
   ]
  },
  {
   "cell_type": "code",
   "execution_count": 4,
   "metadata": {},
   "outputs": [],
   "source": [
    "df['Description'] = df['Description'].str.strip()\n",
    "df.dropna(axis=0, subset=['InvoiceNo'], inplace=True)\n",
    "df['InvoiceNo'] = df['InvoiceNo'].astype('str')\n",
    "df = df[~df['InvoiceNo'].str.contains('C')]"
   ]
  },
  {
   "cell_type": "code",
   "execution_count": 5,
   "metadata": {},
   "outputs": [],
   "source": [
    "# Set transactions\n",
    "groups = df.groupby(['InvoiceNo','InvoiceDate'])\n",
    "transactions = []\n",
    "for name,group in groups:\n",
    "    transactions.append(list(group['Description'].map(str)))"
   ]
  },
  {
   "cell_type": "code",
   "execution_count": 6,
   "metadata": {},
   "outputs": [
    {
     "data": {
      "text/plain": [
       "['WHITE HANGING HEART T-LIGHT HOLDER',\n",
       " 'WHITE METAL LANTERN',\n",
       " 'CREAM CUPID HEARTS COAT HANGER',\n",
       " 'KNITTED UNION FLAG HOT WATER BOTTLE',\n",
       " 'RED WOOLLY HOTTIE WHITE HEART.',\n",
       " 'SET 7 BABUSHKA NESTING BOXES',\n",
       " 'GLASS STAR FROSTED T-LIGHT HOLDER']"
      ]
     },
     "execution_count": 6,
     "metadata": {},
     "output_type": "execute_result"
    }
   ],
   "source": [
    "transactions[0]"
   ]
  },
  {
   "cell_type": "code",
   "execution_count": 9,
   "metadata": {},
   "outputs": [],
   "source": [
    "from apyori import apriori\n",
    "rules = apriori( transactions , min_support = 0.001, min_confidence = 0.8, max_length = 10)"
   ]
  },
  {
   "cell_type": "code",
   "execution_count": null,
   "metadata": {},
   "outputs": [],
   "source": [
    "results = list(rules)\n",
    "results"
   ]
  },
  {
   "cell_type": "code",
   "execution_count": 38,
   "metadata": {},
   "outputs": [
    {
     "name": "stdout",
     "output_type": "stream",
     "text": [
      "There are 39 RULES derived.\n"
     ]
    }
   ],
   "source": [
    "print(\"There are {} RULES derived.\".format(len(results)))"
   ]
  },
  {
   "cell_type": "code",
   "execution_count": 39,
   "metadata": {},
   "outputs": [
    {
     "name": "stdout",
     "output_type": "stream",
     "text": [
      "PINK REGENCY TEACUP AND SAUCER->GREEN REGENCY TEACUP AND SAUCER\n",
      "Support: 0.02863475979372116\n",
      "Confidence: 0.8263707571801566\n",
      "Lift: 17.99778518051679\n",
      "============== 1 =================\n",
      "REGENCY TEA PLATE GREEN->REGENCY TEA PLATE PINK\n",
      "Support: 0.012575771283814348\n",
      "Confidence: 0.9114754098360655\n",
      "Lift: 52.88471236177444\n",
      "============== 2 =================\n",
      "REGENCY TEA PLATE GREEN->REGENCY TEA PLATE ROSES\n",
      "Support: 0.014430471365240206\n",
      "Confidence: 0.837270341207349\n",
      "Lift: 41.592580140965524\n",
      "============== 3 =================\n",
      "REGENCY TEA PLATE ROSES->REGENCY TEA PLATE PINK\n",
      "Support: 0.012168641997647698\n",
      "Confidence: 0.8819672131147541\n",
      "Lift: 43.81296002947136\n",
      "============== 4 =================\n",
      "SET/6 RED SPOTTY PAPER PLATES->SET/6 RED SPOTTY PAPER CUPS\n",
      "Support: 0.015832805573147563\n",
      "Confidence: 0.8177570093457944\n",
      "Lift: 34.23737963749646\n",
      "============== 5 =================\n",
      "WOODEN TREE CHRISTMAS SCANDINAVIAN->WOODEN STAR CHRISTMAS SCANDINAVIAN\n",
      "Support: 0.0127114810458699\n",
      "Confidence: 0.8313609467455622\n",
      "Lift: 35.89465837647929\n",
      "============== 6 =================\n",
      "ALARM CLOCK BAKELIKE CHOCOLATE->ALARM CLOCK BAKELIKE RED\n",
      "Support: 0.01017823215416629\n",
      "Confidence: 0.8122743682310469\n",
      "Lift: 17.084811783173667\n",
      "============== 7 =================\n",
      "RED RETROSPOT CHARLOTTE BAG->CHARLOTTE BAG PINK POLKADOT\n",
      "Support: 0.01013299556681444\n",
      "Confidence: 0.8296296296296296\n",
      "Lift: 17.736743319722045\n",
      "============== 8 =================\n",
      "STRAWBERRY CHARLOTTE BAG->RED RETROSPOT CHARLOTTE BAG\n",
      "Support: 0.014656654301999457\n",
      "Confidence: 0.8594164456233422\n",
      "Lift: 18.3735589428913\n",
      "============== 9 =================\n",
      "RED RETROSPOT CHARLOTTE BAG->WOODLAND CHARLOTTE BAG\n",
      "Support: 0.014611417714647607\n",
      "Confidence: 0.821882951653944\n",
      "Lift: 17.571126237197376\n",
      "============== 10 =================\n"
     ]
    }
   ],
   "source": [
    "for i in  range(10):\n",
    "  item = results[i] \n",
    "  pair=item[0]\n",
    "  #print(pair)\n",
    "  items=[x for x in pair]\n",
    "  #print (items)\n",
    "  print(items[0]+'->'+items[1])\n",
    "  # second index of the inner list\n",
    "  print(\"Support: \" + str(item[1]))\n",
    "  # third index of the list located at 0th\n",
    "  # of the third index of the inner list\n",
    "\n",
    "  print(\"Confidence: \" + str(item[2][0][2]))\n",
    "  print(\"Lift: \" + str(item[2][0][3]))\n",
    "  print(\"==============\",i+1,\"=================\")"
   ]
  },
  {
   "cell_type": "code",
   "execution_count": 40,
   "metadata": {},
   "outputs": [],
   "source": [
    "rules = apriori( transactions ,  min_confidence = 1)"
   ]
  },
  {
   "cell_type": "code",
   "execution_count": 41,
   "metadata": {},
   "outputs": [],
   "source": [
    "results = list(rules)"
   ]
  },
  {
   "cell_type": "code",
   "execution_count": 42,
   "metadata": {},
   "outputs": [
    {
     "name": "stdout",
     "output_type": "stream",
     "text": [
      "There are 0 RULES derived.\n"
     ]
    }
   ],
   "source": [
    "print(\"There are {} RULES derived.\".format(len(results)))"
   ]
  },
  {
   "cell_type": "code",
   "execution_count": 43,
   "metadata": {},
   "outputs": [],
   "source": [
    "rules = apriori( transactions , max_length = 3)"
   ]
  },
  {
   "cell_type": "code",
   "execution_count": 44,
   "metadata": {},
   "outputs": [
    {
     "name": "stdout",
     "output_type": "stream",
     "text": [
      "There are 1 RULES derived.\n"
     ]
    }
   ],
   "source": [
    "results = list(rules)\n",
    "print(\"There are {} RULES derived.\".format(len(results)))"
   ]
  },
  {
   "cell_type": "code",
   "execution_count": 45,
   "metadata": {},
   "outputs": [
    {
     "data": {
      "text/plain": [
       "[RelationRecord(items=frozenset({'WHITE HANGING HEART T-LIGHT HOLDER'}), support=0.1022346874151814, ordered_statistics=[OrderedStatistic(items_base=frozenset(), items_add=frozenset({'WHITE HANGING HEART T-LIGHT HOLDER'}), confidence=0.1022346874151814, lift=1.0)])]"
      ]
     },
     "execution_count": 45,
     "metadata": {},
     "output_type": "execute_result"
    }
   ],
   "source": [
    "results"
   ]
  }
 ],
 "metadata": {
  "kernelspec": {
   "display_name": "Python 3",
   "language": "python",
   "name": "python3"
  },
  "language_info": {
   "codemirror_mode": {
    "name": "ipython",
    "version": 3
   },
   "file_extension": ".py",
   "mimetype": "text/x-python",
   "name": "python",
   "nbconvert_exporter": "python",
   "pygments_lexer": "ipython3",
   "version": "3.6.9"
  }
 },
 "nbformat": 4,
 "nbformat_minor": 2
}
